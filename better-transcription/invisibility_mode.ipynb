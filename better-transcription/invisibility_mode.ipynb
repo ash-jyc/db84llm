{
 "cells": [
  {
   "cell_type": "code",
   "execution_count": 13,
   "metadata": {},
   "outputs": [],
   "source": [
    "# import libraries\n",
    "import csv\n",
    "\n",
    "# cmdl get round docx\n",
    "def get_round_doc(name, side, link):\n",
    "    ! curl '{link}' \\\n",
    "        -H 'accept: */*' \\\n",
    "        -H 'accept-language: en-US,en;q=0.9' \\\n",
    "        -H 'cookie: caselist_token=0d74da59bdb42470cfaa7536001a536a; caselist_trusted=true' \\\n",
    "        -H 'origin: https://opencaselist.com' \\\n",
    "        -H 'priority: u=1, i' \\\n",
    "        -H 'referer: https://opencaselist.com/' \\\n",
    "        -H 'sec-ch-ua: \"Not/A)Brand\";v=\"8\", \"Chromium\";v=\"126\", \"Google Chrome\";v=\"126\"' \\\n",
    "        -H 'sec-ch-ua-mobile: ?0' \\\n",
    "        -H 'sec-ch-ua-platform: \"macOS\"' \\\n",
    "        -H 'sec-fetch-dest: empty' \\\n",
    "        -H 'sec-fetch-mode: cors' \\\n",
    "        -H 'sec-fetch-site: same-site' \\\n",
    "        -H 'user-agent: Mozilla/5.0 (Macintosh; Intel Mac OS X 10_15_7) AppleWebKit/537.36 (KHTML, like Gecko) Chrome/126.0.0.0 Safari/537.36' --output 'docs/{side}_{name}.docx'"
   ]
  },
  {
   "cell_type": "code",
   "execution_count": 14,
   "metadata": {},
   "outputs": [
    {
     "name": "stdout",
     "output_type": "stream",
     "text": [
      "  % Total    % Received % Xferd  Average Speed   Time    Time     Time  Current\n",
      "                                 Dload  Upload   Total   Spent    Left  Speed\n",
      "100  109k  100  109k    0     0   175k      0 --:--:-- --:--:-- --:--:--  175k\n",
      "  % Total    % Received % Xferd  Average Speed   Time    Time     Time  Current\n",
      "                                 Dload  Upload   Total   Spent    Left  Speed\n",
      "100  117k  100  117k    0     0   195k      0 --:--:-- --:--:-- --:--:--  195k\n",
      "  % Total    % Received % Xferd  Average Speed   Time    Time     Time  Current\n",
      "                                 Dload  Upload   Total   Spent    Left  Speed\n",
      "100  360k  100  360k    0     0   518k      0 --:--:-- --:--:-- --:--:--  517k\n",
      "  % Total    % Received % Xferd  Average Speed   Time    Time     Time  Current\n",
      "                                 Dload  Upload   Total   Spent    Left  Speed\n",
      "100 1706k  100 1706k    0     0  1684k      0  0:00:01  0:00:01 --:--:-- 1684k\n",
      "  % Total    % Received % Xferd  Average Speed   Time    Time     Time  Current\n",
      "                                 Dload  Upload   Total   Spent    Left  Speed\n",
      "100 1858k  100 1858k    0     0  1936k      0 --:--:-- --:--:-- --:--:-- 1935k\n",
      "  % Total    % Received % Xferd  Average Speed   Time    Time     Time  Current\n",
      "                                 Dload  Upload   Total   Spent    Left  Speed\n",
      "100  296k  100  296k    0     0   429k      0 --:--:-- --:--:-- --:--:--  429k\n",
      "curl: (3) URL rejected: Malformed input to a URL function\n",
      "curl: (3) URL rejected: Malformed input to a URL function\n",
      "  % Total    % Received % Xferd  Average Speed   Time    Time     Time  Current\n",
      "                                 Dload  Upload   Total   Spent    Left  Speed\n",
      "100  235k  100  235k    0     0   347k      0 --:--:-- --:--:-- --:--:--  347k\n",
      "curl: (3) URL rejected: Malformed input to a URL function\n",
      "  % Total    % Received % Xferd  Average Speed   Time    Time     Time  Current\n",
      "                                 Dload  Upload   Total   Spent    Left  Speed\n",
      "100  172k  100  172k    0     0   285k      0 --:--:-- --:--:-- --:--:--  285k\n",
      "  % Total    % Received % Xferd  Average Speed   Time    Time     Time  Current\n",
      "                                 Dload  Upload   Total   Spent    Left  Speed\n",
      "100  240k  100  240k    0     0   325k      0 --:--:-- --:--:-- --:--:--  325k\n",
      "  % Total    % Received % Xferd  Average Speed   Time    Time     Time  Current\n",
      "                                 Dload  Upload   Total   Spent    Left  Speed\n",
      "100  224k  100  224k    0     0   321k      0 --:--:-- --:--:-- --:--:--  321k\n",
      "  % Total    % Received % Xferd  Average Speed   Time    Time     Time  Current\n",
      "                                 Dload  Upload   Total   Spent    Left  Speed\n",
      "100  164k  100  164k    0     0   264k      0 --:--:-- --:--:-- --:--:--  265k\n",
      "curl: (3) URL rejected: Malformed input to a URL function\n",
      "curl: (3) URL rejected: Malformed input to a URL function\n"
     ]
    }
   ],
   "source": [
    "import time\n",
    "\n",
    "with open('../list_of_debates.csv', newline='') as csvfile:\n",
    "    reader = csv.DictReader(csvfile)\n",
    "    for row in reader:\n",
    "        get_round_doc(row['name'], \"Aff\", row['aff'])\n",
    "        time.sleep(6)\n",
    "        get_round_doc(row['name'], \"Neg\", row['neg'])\n",
    "        time.sleep(6)"
   ]
  }
 ],
 "metadata": {
  "kernelspec": {
   "display_name": "ml",
   "language": "python",
   "name": "python3"
  },
  "language_info": {
   "codemirror_mode": {
    "name": "ipython",
    "version": 3
   },
   "file_extension": ".py",
   "mimetype": "text/x-python",
   "name": "python",
   "nbconvert_exporter": "python",
   "pygments_lexer": "ipython3",
   "version": "3.9.19"
  }
 },
 "nbformat": 4,
 "nbformat_minor": 2
}
