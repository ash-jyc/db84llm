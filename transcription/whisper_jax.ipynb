{
 "cells": [
  {
   "cell_type": "markdown",
   "metadata": {},
   "source": [
    "# Slicing File"
   ]
  },
  {
   "cell_type": "code",
   "execution_count": 17,
   "metadata": {},
   "outputs": [],
   "source": [
    "# get file\n",
    "import csv\n",
    "DEBATES_FILE = './list_of_debates.csv'\n",
    "\n",
    "with open(DEBATES_FILE, 'r') as f:\n",
    "    reader = csv.DictReader(f)\n",
    "    list_of_debates = {}\n",
    "    for row in reader:\n",
    "        list_of_debates[row['name']] = row\n",
    "\n",
    "single_debate = list_of_debates[\"Dartmouth RR 2024 - Round 4 - Michigan PD vs Dartmouth BC\"]\n",
    "\n",
    "audio_file = f\"./debates/{single_debate['name']}/audio.wav\"\n",
    "audio_dir = f\"./debates/{single_debate['name']}/speeches/audio_files/\"\n",
    "speeches = [\"1ac\", \"1nc\", \"2ac\", \"2nc\", \"1nr\", \"1ar\", \"2nr\", \"2ar\"]"
   ]
  },
  {
   "cell_type": "code",
   "execution_count": 18,
   "metadata": {},
   "outputs": [
    {
     "name": "stderr",
     "output_type": "stream",
     "text": [
      "output_file: ./debates/Dartmouth RR 2024 - Round 4 - Michigan PD vs Dartmouth BC/speeches/audio_files/1ac.wav already exists and will be overwritten on build\n",
      "output_file: ./debates/Dartmouth RR 2024 - Round 4 - Michigan PD vs Dartmouth BC/speeches/audio_files/1nc.wav already exists and will be overwritten on build\n",
      "output_file: ./debates/Dartmouth RR 2024 - Round 4 - Michigan PD vs Dartmouth BC/speeches/audio_files/2ac.wav already exists and will be overwritten on build\n",
      "output_file: ./debates/Dartmouth RR 2024 - Round 4 - Michigan PD vs Dartmouth BC/speeches/audio_files/2nc.wav already exists and will be overwritten on build\n",
      "output_file: ./debates/Dartmouth RR 2024 - Round 4 - Michigan PD vs Dartmouth BC/speeches/audio_files/1nr.wav already exists and will be overwritten on build\n",
      "output_file: ./debates/Dartmouth RR 2024 - Round 4 - Michigan PD vs Dartmouth BC/speeches/audio_files/1ar.wav already exists and will be overwritten on build\n",
      "output_file: ./debates/Dartmouth RR 2024 - Round 4 - Michigan PD vs Dartmouth BC/speeches/audio_files/2nr.wav already exists and will be overwritten on build\n",
      "output_file: ./debates/Dartmouth RR 2024 - Round 4 - Michigan PD vs Dartmouth BC/speeches/audio_files/2ar.wav already exists and will be overwritten on build\n"
     ]
    }
   ],
   "source": [
    "# slicing file\n",
    "import sox\n",
    "\n",
    "# slice based off speech\n",
    "def slice_audio(audio_file, start_time, speech):\n",
    "    # convert time from \"hh:mm:ss\"\n",
    "    start_time = sum([int(x) * 60 ** i for i, x in enumerate(start_time.split(\":\")[::-1])])\n",
    "    if speech[-1] == 'c':\n",
    "        end_time = start_time + 9 * 60\n",
    "    else:\n",
    "        end_time = start_time + 6 * 60\n",
    "    output_file = f\"{audio_dir}{speech}.wav\"\n",
    "    tfm = sox.Transformer()\n",
    "    tfm.trim(start_time, end_time)\n",
    "    tfm.build(audio_file, output_file)\n",
    "    \n",
    "for speech in speeches:\n",
    "    slice_audio(audio_file, single_debate[speech], speech)"
   ]
  },
  {
   "cell_type": "markdown",
   "metadata": {},
   "source": [
    "# Transcription"
   ]
  },
  {
   "cell_type": "code",
   "execution_count": 19,
   "metadata": {},
   "outputs": [
    {
     "name": "stdout",
     "output_type": "stream",
     "text": [
      "[0 1 2 3 4 5 6 7 8 9]\n"
     ]
    }
   ],
   "source": [
    "# load jax env variables for mac\n",
    "from dotenv import load_dotenv\n",
    "\n",
    "load_dotenv()\n",
    "\n",
    "# test\n",
    "import jax\n",
    "print(jax.numpy.arange(10))"
   ]
  },
  {
   "cell_type": "code",
   "execution_count": 15,
   "metadata": {},
   "outputs": [
    {
     "name": "stderr",
     "output_type": "stream",
     "text": [
      "/Users/ashle/opt/anaconda3/envs/ml/lib/python3.9/site-packages/huggingface_hub/file_download.py:1132: FutureWarning: `resume_download` is deprecated and will be removed in version 1.0.0. Downloads always resume when possible. If you want to force a new download, use `force_download=True`.\n",
      "  warnings.warn(\n",
      "/Users/ashle/opt/anaconda3/envs/ml/lib/python3.9/site-packages/huggingface_hub/file_download.py:1132: FutureWarning: `resume_download` is deprecated and will be removed in version 1.0.0. Downloads always resume when possible. If you want to force a new download, use `force_download=True`.\n",
      "  warnings.warn(\n"
     ]
    }
   ],
   "source": [
    "# import pipeline\n",
    "from whisper_jax import FlaxWhisperPipline\n",
    "\n",
    "# instantiate pipeline\n",
    "pipeline = FlaxWhisperPipline(\"openai/whisper-large-v2\")"
   ]
  },
  {
   "cell_type": "code",
   "execution_count": 4,
   "metadata": {},
   "outputs": [],
   "source": [
    "# JIT compile the forward call - slow, but we only do once\n",
    "text = pipeline(\"./debates/Dartmouth RR 2024 - Round 4 - Michigan PD vs Dartmouth BC/audio_trimmed.wav\")"
   ]
  },
  {
   "cell_type": "code",
   "execution_count": 35,
   "metadata": {},
   "outputs": [
    {
     "name": "stderr",
     "output_type": "stream",
     "text": [
      "python(23519) MallocStackLogging: can't turn off malloc stack logging because it was not enabled.\n"
     ]
    },
    {
     "ename": "KeyboardInterrupt",
     "evalue": "",
     "output_type": "error",
     "traceback": [
      "\u001b[0;31m---------------------------------------------------------------------------\u001b[0m",
      "\u001b[0;31mKeyboardInterrupt\u001b[0m                         Traceback (most recent call last)",
      "Cell \u001b[0;32mIn[35], line 20\u001b[0m\n\u001b[1;32m     18\u001b[0m \u001b[38;5;66;03m# Use ThreadPoolExecutor to transcribe each speech in parallel\u001b[39;00m\n\u001b[1;32m     19\u001b[0m \u001b[38;5;28;01mwith\u001b[39;00m ThreadPoolExecutor(max_workers\u001b[38;5;241m=\u001b[39m\u001b[38;5;241m4\u001b[39m) \u001b[38;5;28;01mas\u001b[39;00m executor:\n\u001b[0;32m---> 20\u001b[0m     futures \u001b[38;5;241m=\u001b[39m [executor\u001b[38;5;241m.\u001b[39msubmit(transcribe_and_save, speech, pipeline) \u001b[38;5;28;01mfor\u001b[39;00m speech \u001b[38;5;129;01min\u001b[39;00m speeches]\n",
      "File \u001b[0;32m~/opt/anaconda3/envs/ml/lib/python3.9/concurrent/futures/_base.py:637\u001b[0m, in \u001b[0;36mExecutor.__exit__\u001b[0;34m(self, exc_type, exc_val, exc_tb)\u001b[0m\n\u001b[1;32m    636\u001b[0m \u001b[38;5;28;01mdef\u001b[39;00m \u001b[38;5;21m__exit__\u001b[39m(\u001b[38;5;28mself\u001b[39m, exc_type, exc_val, exc_tb):\n\u001b[0;32m--> 637\u001b[0m     \u001b[38;5;28;43mself\u001b[39;49m\u001b[38;5;241;43m.\u001b[39;49m\u001b[43mshutdown\u001b[49m\u001b[43m(\u001b[49m\u001b[43mwait\u001b[49m\u001b[38;5;241;43m=\u001b[39;49m\u001b[38;5;28;43;01mTrue\u001b[39;49;00m\u001b[43m)\u001b[49m\n\u001b[1;32m    638\u001b[0m     \u001b[38;5;28;01mreturn\u001b[39;00m \u001b[38;5;28;01mFalse\u001b[39;00m\n",
      "File \u001b[0;32m~/opt/anaconda3/envs/ml/lib/python3.9/concurrent/futures/thread.py:235\u001b[0m, in \u001b[0;36mThreadPoolExecutor.shutdown\u001b[0;34m(self, wait, cancel_futures)\u001b[0m\n\u001b[1;32m    233\u001b[0m \u001b[38;5;28;01mif\u001b[39;00m wait:\n\u001b[1;32m    234\u001b[0m     \u001b[38;5;28;01mfor\u001b[39;00m t \u001b[38;5;129;01min\u001b[39;00m \u001b[38;5;28mself\u001b[39m\u001b[38;5;241m.\u001b[39m_threads:\n\u001b[0;32m--> 235\u001b[0m         \u001b[43mt\u001b[49m\u001b[38;5;241;43m.\u001b[39;49m\u001b[43mjoin\u001b[49m\u001b[43m(\u001b[49m\u001b[43m)\u001b[49m\n",
      "File \u001b[0;32m~/opt/anaconda3/envs/ml/lib/python3.9/threading.py:1060\u001b[0m, in \u001b[0;36mThread.join\u001b[0;34m(self, timeout)\u001b[0m\n\u001b[1;32m   1057\u001b[0m     \u001b[38;5;28;01mraise\u001b[39;00m \u001b[38;5;167;01mRuntimeError\u001b[39;00m(\u001b[38;5;124m\"\u001b[39m\u001b[38;5;124mcannot join current thread\u001b[39m\u001b[38;5;124m\"\u001b[39m)\n\u001b[1;32m   1059\u001b[0m \u001b[38;5;28;01mif\u001b[39;00m timeout \u001b[38;5;129;01mis\u001b[39;00m \u001b[38;5;28;01mNone\u001b[39;00m:\n\u001b[0;32m-> 1060\u001b[0m     \u001b[38;5;28;43mself\u001b[39;49m\u001b[38;5;241;43m.\u001b[39;49m\u001b[43m_wait_for_tstate_lock\u001b[49m\u001b[43m(\u001b[49m\u001b[43m)\u001b[49m\n\u001b[1;32m   1061\u001b[0m \u001b[38;5;28;01melse\u001b[39;00m:\n\u001b[1;32m   1062\u001b[0m     \u001b[38;5;66;03m# the behavior of a negative timeout isn't documented, but\u001b[39;00m\n\u001b[1;32m   1063\u001b[0m     \u001b[38;5;66;03m# historically .join(timeout=x) for x<0 has acted as if timeout=0\u001b[39;00m\n\u001b[1;32m   1064\u001b[0m     \u001b[38;5;28mself\u001b[39m\u001b[38;5;241m.\u001b[39m_wait_for_tstate_lock(timeout\u001b[38;5;241m=\u001b[39m\u001b[38;5;28mmax\u001b[39m(timeout, \u001b[38;5;241m0\u001b[39m))\n",
      "File \u001b[0;32m~/opt/anaconda3/envs/ml/lib/python3.9/threading.py:1080\u001b[0m, in \u001b[0;36mThread._wait_for_tstate_lock\u001b[0;34m(self, block, timeout)\u001b[0m\n\u001b[1;32m   1077\u001b[0m     \u001b[38;5;28;01mreturn\u001b[39;00m\n\u001b[1;32m   1079\u001b[0m \u001b[38;5;28;01mtry\u001b[39;00m:\n\u001b[0;32m-> 1080\u001b[0m     \u001b[38;5;28;01mif\u001b[39;00m \u001b[43mlock\u001b[49m\u001b[38;5;241;43m.\u001b[39;49m\u001b[43macquire\u001b[49m\u001b[43m(\u001b[49m\u001b[43mblock\u001b[49m\u001b[43m,\u001b[49m\u001b[43m \u001b[49m\u001b[43mtimeout\u001b[49m\u001b[43m)\u001b[49m:\n\u001b[1;32m   1081\u001b[0m         lock\u001b[38;5;241m.\u001b[39mrelease()\n\u001b[1;32m   1082\u001b[0m         \u001b[38;5;28mself\u001b[39m\u001b[38;5;241m.\u001b[39m_stop()\n",
      "\u001b[0;31mKeyboardInterrupt\u001b[0m: "
     ]
    }
   ],
   "source": [
    "# used cached function thereafter - super fast!!\n",
    "from concurrent.futures import ThreadPoolExecutor\n",
    "import os\n",
    "\n",
    "transcription_dir = f\"./debates/{single_debate['name']}/speeches/transcriptions/\"\n",
    "os.makedirs(transcription_dir, exist_ok=True)\n",
    "speeches = [\"1ac\", \"1nc\", \"2ac\", \"2nc\"]\n",
    "\n",
    "def transcribe_and_save(speech, pipeline):\n",
    "    text = pipeline(f\"{audio_dir}/{speech}.wav\", task=\"transcribe\", return_timestamps=True)\n",
    "    # save the text to a file\n",
    "    with open(f\"{transcription_dir}/{speech}.txt\", \"w\") as f:\n",
    "        f.write(text[\"text\"])\n",
    "    print(f\"Transcribed {speech}\")\n",
    "\n",
    "# Use ThreadPoolExecutor to transcribe each speech in parallel\n",
    "with ThreadPoolExecutor(max_workers=4) as executor:\n",
    "    futures = [executor.submit(transcribe_and_save, speech, pipeline) for speech in speeches]"
   ]
  }
 ],
 "metadata": {
  "kernelspec": {
   "display_name": "ml",
   "language": "python",
   "name": "python3"
  },
  "language_info": {
   "codemirror_mode": {
    "name": "ipython",
    "version": 3
   },
   "file_extension": ".py",
   "mimetype": "text/x-python",
   "name": "python",
   "nbconvert_exporter": "python",
   "pygments_lexer": "ipython3",
   "version": "3.9.19"
  }
 },
 "nbformat": 4,
 "nbformat_minor": 2
}
