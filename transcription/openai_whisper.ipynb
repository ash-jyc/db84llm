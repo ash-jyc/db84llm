{
 "cells": [
  {
   "cell_type": "markdown",
   "metadata": {},
   "source": [
    "# Example"
   ]
  },
  {
   "cell_type": "code",
   "execution_count": 3,
   "metadata": {},
   "outputs": [
    {
     "name": "stderr",
     "output_type": "stream",
     "text": [
      "/Users/ashle/opt/anaconda3/envs/ml/lib/python3.9/site-packages/whisper/transcribe.py:126: UserWarning: FP16 is not supported on CPU; using FP32 instead\n",
      "  warnings.warn(\"FP16 is not supported on CPU; using FP32 instead\")\n"
     ]
    }
   ],
   "source": [
    "import whisper\n",
    "\n",
    "model = whisper.load_model(\"base\")\n",
    "result = model.transcribe(\"Kansas KR vs Harvard MS - NDT - Semis - 2018/Kansas KR vs Harvard MS - NDT - Semis - 2018 [mkahaj93Xuo].mp3\")"
   ]
  },
  {
   "cell_type": "code",
   "execution_count": 4,
   "metadata": {},
   "outputs": [],
   "source": [
    "# output result to file\n",
    "with open(\"whisper.txt\", \"w\") as file:\n",
    "    file.write(result[\"text\"])\n",
    "    "
   ]
  },
  {
   "cell_type": "markdown",
   "metadata": {},
   "source": [
    "# Test 4 Debates"
   ]
  },
  {
   "cell_type": "code",
   "execution_count": 11,
   "metadata": {},
   "outputs": [
    {
     "name": "stderr",
     "output_type": "stream",
     "text": [
      "100%|███████████████████████████████████████| 139M/139M [00:14<00:00, 10.2MiB/s]\n"
     ]
    }
   ],
   "source": [
    "# open list_of_debates.csv, contains name, link, and winner of each debate. want to run whisper on each debate. put whisper result in new folder named after name of debate\n",
    "# start from scratch and ignore any previous results\n",
    "# use ThreadPoolExecutor to run multiple whispers at once\n",
    "\n",
    "import csv\n",
    "import os\n",
    "import whisper\n",
    "from concurrent.futures import ThreadPoolExecutor\n",
    "\n",
    "model = whisper.load_model(\"base.en\")\n",
    "# get audio file from link\n",
    "def download_audio(link, dir_name):\n",
    "    # download audio from link\n",
    "    os.system(f\"yt-dlp -x --audio-format wav \\\"{link}\\\" -o \\\"{dir_name}/audio.%(ext)s\\\"\")\n",
    "\n",
    "# run whisper on audio file\n",
    "def run_whisper(dir_name):\n",
    "    result = model.transcribe(f\"{dir_name}/audio.wav\")\n",
    "    with open(f\"{dir_name}/whisper-base-en.txt\", \"w\") as file:\n",
    "        file.write(result[\"text\"])\n",
    "\n",
    "# create directory for each debate\n",
    "def create_dir(name):\n",
    "    os.makedirs(name, exist_ok=True)\n",
    "\n",
    "# process each debate\n",
    "def process_debate(debate):\n",
    "    # create_dir(debate[\"name\"])\n",
    "    # download_audio(debate[\"yt_link\"], debate[\"name\"])\n",
    "    run_whisper(debate[\"name\"])\n"
   ]
  },
  {
   "cell_type": "code",
   "execution_count": 4,
   "metadata": {},
   "outputs": [
    {
     "data": {
      "text/plain": [
       "[{'name': 'Dartmouth RR 2024 - Round 4 - Michigan PD vs Dartmouth BC',\n",
       "  'yt_link': 'https://www.youtube.com/watch?v=UniwtFXoPt4',\n",
       "  'winner': 'aff'},\n",
       " {'name': 'Dartmouth RR 2024 - Round 5 - Dartmouth BC vs Emory KR',\n",
       "  'yt_link': 'https://www.youtube.com/watch?v=8dCke6hZSwI',\n",
       "  'winner': 'aff'},\n",
       " {'name': 'NDT 2023 - Finals - Michigan PP (AFF) vs. Wake Forest RT (NEG)',\n",
       "  'yt_link': 'https://www.youtube.com/watch?v=NBzGKSQwldk',\n",
       "  'winner': 'neg'},\n",
       " {'name': 'NDT 2024 -- Round the Fourth -- Dartmouth BC (AFF) vs. Kansas WW (NEG)',\n",
       "  'yt_link': 'https://www.youtube.com/watch?v=W628nhEcBg0',\n",
       "  'winner': 'aff'}]"
      ]
     },
     "execution_count": 4,
     "metadata": {},
     "output_type": "execute_result"
    }
   ],
   "source": [
    "# get name, link, and winner of each debate\n",
    "with open(\"list_of_debates.csv\") as file:\n",
    "    reader = csv.DictReader(file)\n",
    "    debates = list(reader)\n",
    "\n",
    "debates"
   ]
  },
  {
   "cell_type": "code",
   "execution_count": 9,
   "metadata": {},
   "outputs": [
    {
     "name": "stderr",
     "output_type": "stream",
     "text": [
      "/Users/ashle/opt/anaconda3/envs/ml/lib/python3.9/site-packages/whisper/transcribe.py:126: UserWarning: FP16 is not supported on CPU; using FP32 instead\n",
      "  warnings.warn(\"FP16 is not supported on CPU; using FP32 instead\")\n"
     ]
    },
    {
     "ename": "KeyboardInterrupt",
     "evalue": "",
     "output_type": "error",
     "traceback": [
      "\u001b[0;31m---------------------------------------------------------------------------\u001b[0m",
      "\u001b[0;31mKeyboardInterrupt\u001b[0m                         Traceback (most recent call last)",
      "Cell \u001b[0;32mIn[9], line 12\u001b[0m\n\u001b[1;32m      1\u001b[0m \u001b[38;5;66;03m# # run whisper on each debate\u001b[39;00m\n\u001b[1;32m      2\u001b[0m \u001b[38;5;66;03m# with ThreadPoolExecutor(max_workers=4) as executor:\u001b[39;00m\n\u001b[1;32m      3\u001b[0m \u001b[38;5;66;03m#     futures = [executor.submit(process_debate, debate) for debate in debates]\u001b[39;00m\n\u001b[0;32m   (...)\u001b[0m\n\u001b[1;32m      8\u001b[0m \u001b[38;5;66;03m#             print(e)\u001b[39;00m\n\u001b[1;32m      9\u001b[0m \u001b[38;5;66;03m#             continue\u001b[39;00m\n\u001b[1;32m     11\u001b[0m \u001b[38;5;28;01mfor\u001b[39;00m debate \u001b[38;5;129;01min\u001b[39;00m debates:\n\u001b[0;32m---> 12\u001b[0m     \u001b[43mrun_whisper\u001b[49m\u001b[43m(\u001b[49m\u001b[43mdebate\u001b[49m\u001b[43m[\u001b[49m\u001b[38;5;124;43m\"\u001b[39;49m\u001b[38;5;124;43mname\u001b[39;49m\u001b[38;5;124;43m\"\u001b[39;49m\u001b[43m]\u001b[49m\u001b[43m)\u001b[49m\n",
      "Cell \u001b[0;32mIn[8], line 18\u001b[0m, in \u001b[0;36mrun_whisper\u001b[0;34m(dir_name)\u001b[0m\n\u001b[1;32m     17\u001b[0m \u001b[38;5;28;01mdef\u001b[39;00m \u001b[38;5;21mrun_whisper\u001b[39m(dir_name):\n\u001b[0;32m---> 18\u001b[0m     result \u001b[38;5;241m=\u001b[39m \u001b[43mmodel\u001b[49m\u001b[38;5;241;43m.\u001b[39;49m\u001b[43mtranscribe\u001b[49m\u001b[43m(\u001b[49m\u001b[38;5;124;43mf\u001b[39;49m\u001b[38;5;124;43m\"\u001b[39;49m\u001b[38;5;132;43;01m{\u001b[39;49;00m\u001b[43mdir_name\u001b[49m\u001b[38;5;132;43;01m}\u001b[39;49;00m\u001b[38;5;124;43m/audio.wav\u001b[39;49m\u001b[38;5;124;43m\"\u001b[39;49m\u001b[43m)\u001b[49m\n\u001b[1;32m     19\u001b[0m     \u001b[38;5;28;01mwith\u001b[39;00m \u001b[38;5;28mopen\u001b[39m(\u001b[38;5;124mf\u001b[39m\u001b[38;5;124m\"\u001b[39m\u001b[38;5;132;01m{\u001b[39;00mdir_name\u001b[38;5;132;01m}\u001b[39;00m\u001b[38;5;124m/whisper-small.txt\u001b[39m\u001b[38;5;124m\"\u001b[39m, \u001b[38;5;124m\"\u001b[39m\u001b[38;5;124mw\u001b[39m\u001b[38;5;124m\"\u001b[39m) \u001b[38;5;28;01mas\u001b[39;00m file:\n\u001b[1;32m     20\u001b[0m         file\u001b[38;5;241m.\u001b[39mwrite(result[\u001b[38;5;124m\"\u001b[39m\u001b[38;5;124mtext\u001b[39m\u001b[38;5;124m\"\u001b[39m])\n",
      "File \u001b[0;32m~/opt/anaconda3/envs/ml/lib/python3.9/site-packages/whisper/transcribe.py:279\u001b[0m, in \u001b[0;36mtranscribe\u001b[0;34m(model, audio, verbose, temperature, compression_ratio_threshold, logprob_threshold, no_speech_threshold, condition_on_previous_text, initial_prompt, word_timestamps, prepend_punctuations, append_punctuations, clip_timestamps, hallucination_silence_threshold, **decode_options)\u001b[0m\n\u001b[1;32m    276\u001b[0m mel_segment \u001b[38;5;241m=\u001b[39m pad_or_trim(mel_segment, N_FRAMES)\u001b[38;5;241m.\u001b[39mto(model\u001b[38;5;241m.\u001b[39mdevice)\u001b[38;5;241m.\u001b[39mto(dtype)\n\u001b[1;32m    278\u001b[0m decode_options[\u001b[38;5;124m\"\u001b[39m\u001b[38;5;124mprompt\u001b[39m\u001b[38;5;124m\"\u001b[39m] \u001b[38;5;241m=\u001b[39m all_tokens[prompt_reset_since:]\n\u001b[0;32m--> 279\u001b[0m result: DecodingResult \u001b[38;5;241m=\u001b[39m \u001b[43mdecode_with_fallback\u001b[49m\u001b[43m(\u001b[49m\u001b[43mmel_segment\u001b[49m\u001b[43m)\u001b[49m\n\u001b[1;32m    280\u001b[0m tokens \u001b[38;5;241m=\u001b[39m torch\u001b[38;5;241m.\u001b[39mtensor(result\u001b[38;5;241m.\u001b[39mtokens)\n\u001b[1;32m    282\u001b[0m \u001b[38;5;28;01mif\u001b[39;00m no_speech_threshold \u001b[38;5;129;01mis\u001b[39;00m \u001b[38;5;129;01mnot\u001b[39;00m \u001b[38;5;28;01mNone\u001b[39;00m:\n\u001b[1;32m    283\u001b[0m     \u001b[38;5;66;03m# no voice activity check\u001b[39;00m\n",
      "File \u001b[0;32m~/opt/anaconda3/envs/ml/lib/python3.9/site-packages/whisper/transcribe.py:195\u001b[0m, in \u001b[0;36mtranscribe.<locals>.decode_with_fallback\u001b[0;34m(segment)\u001b[0m\n\u001b[1;32m    192\u001b[0m     kwargs\u001b[38;5;241m.\u001b[39mpop(\u001b[38;5;124m\"\u001b[39m\u001b[38;5;124mbest_of\u001b[39m\u001b[38;5;124m\"\u001b[39m, \u001b[38;5;28;01mNone\u001b[39;00m)\n\u001b[1;32m    194\u001b[0m options \u001b[38;5;241m=\u001b[39m DecodingOptions(\u001b[38;5;241m*\u001b[39m\u001b[38;5;241m*\u001b[39mkwargs, temperature\u001b[38;5;241m=\u001b[39mt)\n\u001b[0;32m--> 195\u001b[0m decode_result \u001b[38;5;241m=\u001b[39m \u001b[43mmodel\u001b[49m\u001b[38;5;241;43m.\u001b[39;49m\u001b[43mdecode\u001b[49m\u001b[43m(\u001b[49m\u001b[43msegment\u001b[49m\u001b[43m,\u001b[49m\u001b[43m \u001b[49m\u001b[43moptions\u001b[49m\u001b[43m)\u001b[49m\n\u001b[1;32m    197\u001b[0m needs_fallback \u001b[38;5;241m=\u001b[39m \u001b[38;5;28;01mFalse\u001b[39;00m\n\u001b[1;32m    198\u001b[0m \u001b[38;5;28;01mif\u001b[39;00m (\n\u001b[1;32m    199\u001b[0m     compression_ratio_threshold \u001b[38;5;129;01mis\u001b[39;00m \u001b[38;5;129;01mnot\u001b[39;00m \u001b[38;5;28;01mNone\u001b[39;00m\n\u001b[1;32m    200\u001b[0m     \u001b[38;5;129;01mand\u001b[39;00m decode_result\u001b[38;5;241m.\u001b[39mcompression_ratio \u001b[38;5;241m>\u001b[39m compression_ratio_threshold\n\u001b[1;32m    201\u001b[0m ):\n",
      "File \u001b[0;32m~/opt/anaconda3/envs/ml/lib/python3.9/site-packages/torch/utils/_contextlib.py:116\u001b[0m, in \u001b[0;36mcontext_decorator.<locals>.decorate_context\u001b[0;34m(*args, **kwargs)\u001b[0m\n\u001b[1;32m    113\u001b[0m \u001b[38;5;129m@functools\u001b[39m\u001b[38;5;241m.\u001b[39mwraps(func)\n\u001b[1;32m    114\u001b[0m \u001b[38;5;28;01mdef\u001b[39;00m \u001b[38;5;21mdecorate_context\u001b[39m(\u001b[38;5;241m*\u001b[39margs, \u001b[38;5;241m*\u001b[39m\u001b[38;5;241m*\u001b[39mkwargs):\n\u001b[1;32m    115\u001b[0m     \u001b[38;5;28;01mwith\u001b[39;00m ctx_factory():\n\u001b[0;32m--> 116\u001b[0m         \u001b[38;5;28;01mreturn\u001b[39;00m \u001b[43mfunc\u001b[49m\u001b[43m(\u001b[49m\u001b[38;5;241;43m*\u001b[39;49m\u001b[43margs\u001b[49m\u001b[43m,\u001b[49m\u001b[43m \u001b[49m\u001b[38;5;241;43m*\u001b[39;49m\u001b[38;5;241;43m*\u001b[39;49m\u001b[43mkwargs\u001b[49m\u001b[43m)\u001b[49m\n",
      "File \u001b[0;32m~/opt/anaconda3/envs/ml/lib/python3.9/site-packages/whisper/decoding.py:824\u001b[0m, in \u001b[0;36mdecode\u001b[0;34m(model, mel, options, **kwargs)\u001b[0m\n\u001b[1;32m    821\u001b[0m \u001b[38;5;28;01mif\u001b[39;00m kwargs:\n\u001b[1;32m    822\u001b[0m     options \u001b[38;5;241m=\u001b[39m replace(options, \u001b[38;5;241m*\u001b[39m\u001b[38;5;241m*\u001b[39mkwargs)\n\u001b[0;32m--> 824\u001b[0m result \u001b[38;5;241m=\u001b[39m \u001b[43mDecodingTask\u001b[49m\u001b[43m(\u001b[49m\u001b[43mmodel\u001b[49m\u001b[43m,\u001b[49m\u001b[43m \u001b[49m\u001b[43moptions\u001b[49m\u001b[43m)\u001b[49m\u001b[38;5;241;43m.\u001b[39;49m\u001b[43mrun\u001b[49m\u001b[43m(\u001b[49m\u001b[43mmel\u001b[49m\u001b[43m)\u001b[49m\n\u001b[1;32m    826\u001b[0m \u001b[38;5;28;01mreturn\u001b[39;00m result[\u001b[38;5;241m0\u001b[39m] \u001b[38;5;28;01mif\u001b[39;00m single \u001b[38;5;28;01melse\u001b[39;00m result\n",
      "File \u001b[0;32m~/opt/anaconda3/envs/ml/lib/python3.9/site-packages/torch/utils/_contextlib.py:116\u001b[0m, in \u001b[0;36mcontext_decorator.<locals>.decorate_context\u001b[0;34m(*args, **kwargs)\u001b[0m\n\u001b[1;32m    113\u001b[0m \u001b[38;5;129m@functools\u001b[39m\u001b[38;5;241m.\u001b[39mwraps(func)\n\u001b[1;32m    114\u001b[0m \u001b[38;5;28;01mdef\u001b[39;00m \u001b[38;5;21mdecorate_context\u001b[39m(\u001b[38;5;241m*\u001b[39margs, \u001b[38;5;241m*\u001b[39m\u001b[38;5;241m*\u001b[39mkwargs):\n\u001b[1;32m    115\u001b[0m     \u001b[38;5;28;01mwith\u001b[39;00m ctx_factory():\n\u001b[0;32m--> 116\u001b[0m         \u001b[38;5;28;01mreturn\u001b[39;00m \u001b[43mfunc\u001b[49m\u001b[43m(\u001b[49m\u001b[38;5;241;43m*\u001b[39;49m\u001b[43margs\u001b[49m\u001b[43m,\u001b[49m\u001b[43m \u001b[49m\u001b[38;5;241;43m*\u001b[39;49m\u001b[38;5;241;43m*\u001b[39;49m\u001b[43mkwargs\u001b[49m\u001b[43m)\u001b[49m\n",
      "File \u001b[0;32m~/opt/anaconda3/envs/ml/lib/python3.9/site-packages/whisper/decoding.py:737\u001b[0m, in \u001b[0;36mDecodingTask.run\u001b[0;34m(self, mel)\u001b[0m\n\u001b[1;32m    734\u001b[0m tokens \u001b[38;5;241m=\u001b[39m tokens\u001b[38;5;241m.\u001b[39mrepeat_interleave(\u001b[38;5;28mself\u001b[39m\u001b[38;5;241m.\u001b[39mn_group, dim\u001b[38;5;241m=\u001b[39m\u001b[38;5;241m0\u001b[39m)\u001b[38;5;241m.\u001b[39mto(audio_features\u001b[38;5;241m.\u001b[39mdevice)\n\u001b[1;32m    736\u001b[0m \u001b[38;5;66;03m# call the main sampling loop\u001b[39;00m\n\u001b[0;32m--> 737\u001b[0m tokens, sum_logprobs, no_speech_probs \u001b[38;5;241m=\u001b[39m \u001b[38;5;28;43mself\u001b[39;49m\u001b[38;5;241;43m.\u001b[39;49m\u001b[43m_main_loop\u001b[49m\u001b[43m(\u001b[49m\u001b[43maudio_features\u001b[49m\u001b[43m,\u001b[49m\u001b[43m \u001b[49m\u001b[43mtokens\u001b[49m\u001b[43m)\u001b[49m\n\u001b[1;32m    739\u001b[0m \u001b[38;5;66;03m# reshape the tensors to have (n_audio, n_group) as the first two dimensions\u001b[39;00m\n\u001b[1;32m    740\u001b[0m audio_features \u001b[38;5;241m=\u001b[39m audio_features[:: \u001b[38;5;28mself\u001b[39m\u001b[38;5;241m.\u001b[39mn_group]\n",
      "File \u001b[0;32m~/opt/anaconda3/envs/ml/lib/python3.9/site-packages/whisper/decoding.py:687\u001b[0m, in \u001b[0;36mDecodingTask._main_loop\u001b[0;34m(self, audio_features, tokens)\u001b[0m\n\u001b[1;32m    685\u001b[0m \u001b[38;5;28;01mtry\u001b[39;00m:\n\u001b[1;32m    686\u001b[0m     \u001b[38;5;28;01mfor\u001b[39;00m i \u001b[38;5;129;01min\u001b[39;00m \u001b[38;5;28mrange\u001b[39m(\u001b[38;5;28mself\u001b[39m\u001b[38;5;241m.\u001b[39msample_len):\n\u001b[0;32m--> 687\u001b[0m         logits \u001b[38;5;241m=\u001b[39m \u001b[38;5;28;43mself\u001b[39;49m\u001b[38;5;241;43m.\u001b[39;49m\u001b[43minference\u001b[49m\u001b[38;5;241;43m.\u001b[39;49m\u001b[43mlogits\u001b[49m\u001b[43m(\u001b[49m\u001b[43mtokens\u001b[49m\u001b[43m,\u001b[49m\u001b[43m \u001b[49m\u001b[43maudio_features\u001b[49m\u001b[43m)\u001b[49m\n\u001b[1;32m    689\u001b[0m         \u001b[38;5;28;01mif\u001b[39;00m (\n\u001b[1;32m    690\u001b[0m             i \u001b[38;5;241m==\u001b[39m \u001b[38;5;241m0\u001b[39m \u001b[38;5;129;01mand\u001b[39;00m \u001b[38;5;28mself\u001b[39m\u001b[38;5;241m.\u001b[39mtokenizer\u001b[38;5;241m.\u001b[39mno_speech \u001b[38;5;129;01mis\u001b[39;00m \u001b[38;5;129;01mnot\u001b[39;00m \u001b[38;5;28;01mNone\u001b[39;00m\n\u001b[1;32m    691\u001b[0m         ):  \u001b[38;5;66;03m# save no_speech_probs\u001b[39;00m\n\u001b[1;32m    692\u001b[0m             probs_at_sot \u001b[38;5;241m=\u001b[39m logits[:, \u001b[38;5;28mself\u001b[39m\u001b[38;5;241m.\u001b[39msot_index]\u001b[38;5;241m.\u001b[39mfloat()\u001b[38;5;241m.\u001b[39msoftmax(dim\u001b[38;5;241m=\u001b[39m\u001b[38;5;241m-\u001b[39m\u001b[38;5;241m1\u001b[39m)\n",
      "File \u001b[0;32m~/opt/anaconda3/envs/ml/lib/python3.9/site-packages/whisper/decoding.py:163\u001b[0m, in \u001b[0;36mPyTorchInference.logits\u001b[0;34m(self, tokens, audio_features)\u001b[0m\n\u001b[1;32m    159\u001b[0m \u001b[38;5;28;01mif\u001b[39;00m tokens\u001b[38;5;241m.\u001b[39mshape[\u001b[38;5;241m-\u001b[39m\u001b[38;5;241m1\u001b[39m] \u001b[38;5;241m>\u001b[39m \u001b[38;5;28mself\u001b[39m\u001b[38;5;241m.\u001b[39minitial_token_length:\n\u001b[1;32m    160\u001b[0m     \u001b[38;5;66;03m# only need to use the last token except in the first forward pass\u001b[39;00m\n\u001b[1;32m    161\u001b[0m     tokens \u001b[38;5;241m=\u001b[39m tokens[:, \u001b[38;5;241m-\u001b[39m\u001b[38;5;241m1\u001b[39m:]\n\u001b[0;32m--> 163\u001b[0m \u001b[38;5;28;01mreturn\u001b[39;00m \u001b[38;5;28;43mself\u001b[39;49m\u001b[38;5;241;43m.\u001b[39;49m\u001b[43mmodel\u001b[49m\u001b[38;5;241;43m.\u001b[39;49m\u001b[43mdecoder\u001b[49m\u001b[43m(\u001b[49m\u001b[43mtokens\u001b[49m\u001b[43m,\u001b[49m\u001b[43m \u001b[49m\u001b[43maudio_features\u001b[49m\u001b[43m,\u001b[49m\u001b[43m \u001b[49m\u001b[43mkv_cache\u001b[49m\u001b[38;5;241;43m=\u001b[39;49m\u001b[38;5;28;43mself\u001b[39;49m\u001b[38;5;241;43m.\u001b[39;49m\u001b[43mkv_cache\u001b[49m\u001b[43m)\u001b[49m\n",
      "File \u001b[0;32m~/opt/anaconda3/envs/ml/lib/python3.9/site-packages/torch/nn/modules/module.py:1553\u001b[0m, in \u001b[0;36mModule._wrapped_call_impl\u001b[0;34m(self, *args, **kwargs)\u001b[0m\n\u001b[1;32m   1551\u001b[0m     \u001b[38;5;28;01mreturn\u001b[39;00m \u001b[38;5;28mself\u001b[39m\u001b[38;5;241m.\u001b[39m_compiled_call_impl(\u001b[38;5;241m*\u001b[39margs, \u001b[38;5;241m*\u001b[39m\u001b[38;5;241m*\u001b[39mkwargs)  \u001b[38;5;66;03m# type: ignore[misc]\u001b[39;00m\n\u001b[1;32m   1552\u001b[0m \u001b[38;5;28;01melse\u001b[39;00m:\n\u001b[0;32m-> 1553\u001b[0m     \u001b[38;5;28;01mreturn\u001b[39;00m \u001b[38;5;28;43mself\u001b[39;49m\u001b[38;5;241;43m.\u001b[39;49m\u001b[43m_call_impl\u001b[49m\u001b[43m(\u001b[49m\u001b[38;5;241;43m*\u001b[39;49m\u001b[43margs\u001b[49m\u001b[43m,\u001b[49m\u001b[43m \u001b[49m\u001b[38;5;241;43m*\u001b[39;49m\u001b[38;5;241;43m*\u001b[39;49m\u001b[43mkwargs\u001b[49m\u001b[43m)\u001b[49m\n",
      "File \u001b[0;32m~/opt/anaconda3/envs/ml/lib/python3.9/site-packages/torch/nn/modules/module.py:1562\u001b[0m, in \u001b[0;36mModule._call_impl\u001b[0;34m(self, *args, **kwargs)\u001b[0m\n\u001b[1;32m   1557\u001b[0m \u001b[38;5;66;03m# If we don't have any hooks, we want to skip the rest of the logic in\u001b[39;00m\n\u001b[1;32m   1558\u001b[0m \u001b[38;5;66;03m# this function, and just call forward.\u001b[39;00m\n\u001b[1;32m   1559\u001b[0m \u001b[38;5;28;01mif\u001b[39;00m \u001b[38;5;129;01mnot\u001b[39;00m (\u001b[38;5;28mself\u001b[39m\u001b[38;5;241m.\u001b[39m_backward_hooks \u001b[38;5;129;01mor\u001b[39;00m \u001b[38;5;28mself\u001b[39m\u001b[38;5;241m.\u001b[39m_backward_pre_hooks \u001b[38;5;129;01mor\u001b[39;00m \u001b[38;5;28mself\u001b[39m\u001b[38;5;241m.\u001b[39m_forward_hooks \u001b[38;5;129;01mor\u001b[39;00m \u001b[38;5;28mself\u001b[39m\u001b[38;5;241m.\u001b[39m_forward_pre_hooks\n\u001b[1;32m   1560\u001b[0m         \u001b[38;5;129;01mor\u001b[39;00m _global_backward_pre_hooks \u001b[38;5;129;01mor\u001b[39;00m _global_backward_hooks\n\u001b[1;32m   1561\u001b[0m         \u001b[38;5;129;01mor\u001b[39;00m _global_forward_hooks \u001b[38;5;129;01mor\u001b[39;00m _global_forward_pre_hooks):\n\u001b[0;32m-> 1562\u001b[0m     \u001b[38;5;28;01mreturn\u001b[39;00m \u001b[43mforward_call\u001b[49m\u001b[43m(\u001b[49m\u001b[38;5;241;43m*\u001b[39;49m\u001b[43margs\u001b[49m\u001b[43m,\u001b[49m\u001b[43m \u001b[49m\u001b[38;5;241;43m*\u001b[39;49m\u001b[38;5;241;43m*\u001b[39;49m\u001b[43mkwargs\u001b[49m\u001b[43m)\u001b[49m\n\u001b[1;32m   1564\u001b[0m \u001b[38;5;28;01mtry\u001b[39;00m:\n\u001b[1;32m   1565\u001b[0m     result \u001b[38;5;241m=\u001b[39m \u001b[38;5;28;01mNone\u001b[39;00m\n",
      "File \u001b[0;32m~/opt/anaconda3/envs/ml/lib/python3.9/site-packages/whisper/model.py:215\u001b[0m, in \u001b[0;36mTextDecoder.forward\u001b[0;34m(self, x, xa, kv_cache)\u001b[0m\n\u001b[1;32m    211\u001b[0m     x \u001b[38;5;241m=\u001b[39m block(x, xa, mask\u001b[38;5;241m=\u001b[39m\u001b[38;5;28mself\u001b[39m\u001b[38;5;241m.\u001b[39mmask, kv_cache\u001b[38;5;241m=\u001b[39mkv_cache)\n\u001b[1;32m    213\u001b[0m x \u001b[38;5;241m=\u001b[39m \u001b[38;5;28mself\u001b[39m\u001b[38;5;241m.\u001b[39mln(x)\n\u001b[1;32m    214\u001b[0m logits \u001b[38;5;241m=\u001b[39m (\n\u001b[0;32m--> 215\u001b[0m     \u001b[43mx\u001b[49m\u001b[43m \u001b[49m\u001b[38;5;241;43m@\u001b[39;49m\u001b[43m \u001b[49m\u001b[43mtorch\u001b[49m\u001b[38;5;241;43m.\u001b[39;49m\u001b[43mtranspose\u001b[49m\u001b[43m(\u001b[49m\u001b[38;5;28;43mself\u001b[39;49m\u001b[38;5;241;43m.\u001b[39;49m\u001b[43mtoken_embedding\u001b[49m\u001b[38;5;241;43m.\u001b[39;49m\u001b[43mweight\u001b[49m\u001b[38;5;241;43m.\u001b[39;49m\u001b[43mto\u001b[49m\u001b[43m(\u001b[49m\u001b[43mx\u001b[49m\u001b[38;5;241;43m.\u001b[39;49m\u001b[43mdtype\u001b[49m\u001b[43m)\u001b[49m\u001b[43m,\u001b[49m\u001b[43m \u001b[49m\u001b[38;5;241;43m0\u001b[39;49m\u001b[43m,\u001b[49m\u001b[43m \u001b[49m\u001b[38;5;241;43m1\u001b[39;49m\u001b[43m)\u001b[49m\n\u001b[1;32m    216\u001b[0m )\u001b[38;5;241m.\u001b[39mfloat()\n\u001b[1;32m    218\u001b[0m \u001b[38;5;28;01mreturn\u001b[39;00m logits\n",
      "\u001b[0;31mKeyboardInterrupt\u001b[0m: "
     ]
    }
   ],
   "source": [
    "# # run whisper on each debate\n",
    "# with ThreadPoolExecutor(max_workers=4) as executor:\n",
    "#     futures = [executor.submit(process_debate, debate) for debate in debates]\n",
    "#     for future in futures:\n",
    "#         try:\n",
    "#             future.result()\n",
    "#         except Exception as e:\n",
    "#             print(e)\n",
    "#             continue\n",
    "\n",
    "for debate in debates:\n",
    "    run_whisper(debate[\"name\"])"
   ]
  },
  {
   "cell_type": "code",
   "execution_count": null,
   "metadata": {},
   "outputs": [],
   "source": [
    "# delete audio files\n",
    "for debate in debates:\n",
    "    name = debate[\"name\"]\n",
    "    os.remove(f\"{name}/audio.wav\")"
   ]
  },
  {
   "cell_type": "code",
   "execution_count": 4,
   "metadata": {},
   "outputs": [
    {
     "name": "stdout",
     "output_type": "stream",
     "text": [
      "[youtube:tab] Extracting URL: https://www.youtube.com/watch?v=UniwtFXoPt4&list=PLKl-tVLat4pLOL2uXh7RuAO5fub1YuGsB&index=5\n",
      "[youtube:tab] Downloading playlist PLKl-tVLat4pLOL2uXh7RuAO5fub1YuGsB - add --no-playlist to download just the video UniwtFXoPt4\n",
      "[youtube:tab] PLKl-tVLat4pLOL2uXh7RuAO5fub1YuGsB: Downloading webpage\n",
      "[youtube:tab] Extracting URL: https://www.youtube.com/playlist?list=PLKl-tVLat4pLOL2uXh7RuAO5fub1YuGsB\n",
      "[youtube:tab] PLKl-tVLat4pLOL2uXh7RuAO5fub1YuGsB: Downloading webpage\n",
      "[youtube:tab] PLKl-tVLat4pLOL2uXh7RuAO5fub1YuGsB: Redownloading playlist API JSON with unavailable videos\n",
      "[download] Downloading playlist: Dartmouth RR 2024\n",
      "[youtube:tab] PLKl-tVLat4pLOL2uXh7RuAO5fub1YuGsB page 1: Downloading API JSON\n",
      "[youtube:tab] PLKl-tVLat4pLOL2uXh7RuAO5fub1YuGsB page 1: Downloading API JSON\n",
      "[youtube:tab] PLKl-tVLat4pLOL2uXh7RuAO5fub1YuGsB page 1: Downloading API JSON\n",
      "[youtube:tab] PLKl-tVLat4pLOL2uXh7RuAO5fub1YuGsB page 1: Downloading API JSON\n"
     ]
    },
    {
     "name": "stderr",
     "output_type": "stream",
     "text": [
      "WARNING: [youtube:tab] Incomplete data received. Retrying (1/3)...\n",
      "WARNING: [youtube:tab] Incomplete data received. Retrying (2/3)...\n",
      "WARNING: [youtube:tab] Incomplete data received. Retrying (3/3)...\n",
      "WARNING: [youtube:tab] Incomplete data received. Giving up after 3 retries\n"
     ]
    },
    {
     "name": "stdout",
     "output_type": "stream",
     "text": [
      "[youtube:tab] Playlist Dartmouth RR 2024: Downloading 11 items of 11\n",
      "[download] Downloading item 1 of 11\n",
      "[youtube] Extracting URL: https://www.youtube.com/watch?v=usaFaMR9t64\n",
      "[youtube] usaFaMR9t64: Downloading webpage\n",
      "[youtube] usaFaMR9t64: Downloading ios player API JSON\n",
      "[youtube] usaFaMR9t64: Downloading player 8d9f6215\n"
     ]
    },
    {
     "name": "stderr",
     "output_type": "stream",
     "text": [
      "WARNING: [youtube] usaFaMR9t64: nsig extraction failed: Some formats may be missing\n",
      "         n = XeoWR5KHnKTe327_kWw ; player = https://www.youtube.com/s/player/8d9f6215/player_ias.vflset/en_US/base.js\n",
      "WARNING: [youtube] usaFaMR9t64: nsig extraction failed: Some formats may be missing\n",
      "         n = 02h7fzEstzwF-NowHVy ; player = https://www.youtube.com/s/player/8d9f6215/player_ias.vflset/en_US/base.js\n"
     ]
    },
    {
     "name": "stdout",
     "output_type": "stream",
     "text": [
      "[youtube] usaFaMR9t64: Downloading m3u8 information\n",
      "[info] usaFaMR9t64: Downloading 1 format(s): 140\n",
      "[download] Dartmouth RR 2024 - Round 4 - Michigan PD vs Dartmouth BC/audio.wav has already been downloaded\n",
      "[ExtractAudio] Destination: Dartmouth RR 2024 - Round 4 - Michigan PD vs Dartmouth BC/audio.wav\n",
      "Deleting original file Dartmouth RR 2024 - Round 4 - Michigan PD vs Dartmouth BC/audio.orig.wav (pass -k to keep)\n",
      "[download] Downloading item 2 of 11\n",
      "[youtube] Extracting URL: https://www.youtube.com/watch?v=8SUTs_Zv6iM\n",
      "[youtube] 8SUTs_Zv6iM: Downloading webpage\n",
      "[youtube] 8SUTs_Zv6iM: Downloading ios player API JSON\n",
      "[youtube] 8SUTs_Zv6iM: Downloading m3u8 information\n"
     ]
    },
    {
     "name": "stderr",
     "output_type": "stream",
     "text": [
      "WARNING: [youtube] 8SUTs_Zv6iM: nsig extraction failed: Some formats may be missing\n",
      "         n = J_MM1eDyWIS2lUGzGPv ; player = https://www.youtube.com/s/player/8d9f6215/player_ias.vflset/en_US/base.js\n",
      "WARNING: [youtube] 8SUTs_Zv6iM: nsig extraction failed: Some formats may be missing\n",
      "         n = OuhkVUXag6BzlmbyJkM ; player = https://www.youtube.com/s/player/8d9f6215/player_ias.vflset/en_US/base.js\n"
     ]
    },
    {
     "name": "stdout",
     "output_type": "stream",
     "text": [
      "[info] 8SUTs_Zv6iM: Downloading 1 format(s): 140\n",
      "[download] Dartmouth RR 2024 - Round 4 - Michigan PD vs Dartmouth BC/audio.wav has already been downloaded\n",
      "[ExtractAudio] Destination: Dartmouth RR 2024 - Round 4 - Michigan PD vs Dartmouth BC/audio.wav\n",
      "Deleting original file Dartmouth RR 2024 - Round 4 - Michigan PD vs Dartmouth BC/audio.orig.wav (pass -k to keep)\n",
      "[download] Downloading item 3 of 11\n",
      "[youtube] Extracting URL: https://www.youtube.com/watch?v=23eTgUI5N3Q\n",
      "[youtube] 23eTgUI5N3Q: Downloading webpage\n",
      "[youtube] 23eTgUI5N3Q: Downloading ios player API JSON\n",
      "[youtube] 23eTgUI5N3Q: Downloading m3u8 information\n"
     ]
    },
    {
     "name": "stderr",
     "output_type": "stream",
     "text": [
      "WARNING: [youtube] 23eTgUI5N3Q: nsig extraction failed: Some formats may be missing\n",
      "         n = ZKoNphfeOzHQPSCK07p ; player = https://www.youtube.com/s/player/8d9f6215/player_ias.vflset/en_US/base.js\n",
      "WARNING: [youtube] 23eTgUI5N3Q: nsig extraction failed: Some formats may be missing\n",
      "         n = Tq0tjtVDCbHi9KKI6ZZ ; player = https://www.youtube.com/s/player/8d9f6215/player_ias.vflset/en_US/base.js\n"
     ]
    },
    {
     "name": "stdout",
     "output_type": "stream",
     "text": [
      "[info] 23eTgUI5N3Q: Downloading 1 format(s): 140\n",
      "[download] Dartmouth RR 2024 - Round 4 - Michigan PD vs Dartmouth BC/audio.wav has already been downloaded\n",
      "[ExtractAudio] Destination: Dartmouth RR 2024 - Round 4 - Michigan PD vs Dartmouth BC/audio.wav\n",
      "Deleting original file Dartmouth RR 2024 - Round 4 - Michigan PD vs Dartmouth BC/audio.orig.wav (pass -k to keep)\n",
      "[download] Downloading item 4 of 11\n",
      "[youtube] Extracting URL: https://www.youtube.com/watch?v=dUavVjZsWXo\n",
      "[youtube] dUavVjZsWXo: Downloading webpage\n",
      "[youtube] dUavVjZsWXo: Downloading ios player API JSON\n",
      "[youtube] dUavVjZsWXo: Downloading m3u8 information\n"
     ]
    },
    {
     "name": "stderr",
     "output_type": "stream",
     "text": [
      "WARNING: [youtube] dUavVjZsWXo: nsig extraction failed: Some formats may be missing\n",
      "         n = tCyfPJG1VrYxLb_zSv3 ; player = https://www.youtube.com/s/player/8d9f6215/player_ias.vflset/en_US/base.js\n",
      "WARNING: [youtube] dUavVjZsWXo: nsig extraction failed: Some formats may be missing\n",
      "         n = 0QhkCXekmtgeFGBOdwx ; player = https://www.youtube.com/s/player/8d9f6215/player_ias.vflset/en_US/base.js\n"
     ]
    },
    {
     "name": "stdout",
     "output_type": "stream",
     "text": [
      "[info] dUavVjZsWXo: Downloading 1 format(s): 140\n",
      "[download] Dartmouth RR 2024 - Round 4 - Michigan PD vs Dartmouth BC/audio.wav has already been downloaded\n",
      "[ExtractAudio] Destination: Dartmouth RR 2024 - Round 4 - Michigan PD vs Dartmouth BC/audio.wav\n",
      "Deleting original file Dartmouth RR 2024 - Round 4 - Michigan PD vs Dartmouth BC/audio.orig.wav (pass -k to keep)\n",
      "[download] Downloading item 5 of 11\n",
      "[youtube] Extracting URL: https://www.youtube.com/watch?v=UniwtFXoPt4\n",
      "[youtube] UniwtFXoPt4: Downloading webpage\n",
      "[youtube] UniwtFXoPt4: Downloading ios player API JSON\n",
      "[youtube] UniwtFXoPt4: Downloading m3u8 information\n"
     ]
    },
    {
     "name": "stderr",
     "output_type": "stream",
     "text": [
      "WARNING: [youtube] UniwtFXoPt4: nsig extraction failed: Some formats may be missing\n",
      "         n = NbH9ZY1Kg4VAlZVorZp ; player = https://www.youtube.com/s/player/8d9f6215/player_ias.vflset/en_US/base.js\n",
      "WARNING: [youtube] UniwtFXoPt4: nsig extraction failed: Some formats may be missing\n",
      "         n = pwErIsLZyT00rDKNZWV ; player = https://www.youtube.com/s/player/8d9f6215/player_ias.vflset/en_US/base.js\n"
     ]
    },
    {
     "name": "stdout",
     "output_type": "stream",
     "text": [
      "[info] UniwtFXoPt4: Downloading 1 format(s): 140\n",
      "[download] Dartmouth RR 2024 - Round 4 - Michigan PD vs Dartmouth BC/audio.wav has already been downloaded\n",
      "[ExtractAudio] Destination: Dartmouth RR 2024 - Round 4 - Michigan PD vs Dartmouth BC/audio.wav\n",
      "Deleting original file Dartmouth RR 2024 - Round 4 - Michigan PD vs Dartmouth BC/audio.orig.wav (pass -k to keep)\n",
      "[download] Downloading item 6 of 11\n",
      "[youtube] Extracting URL: https://www.youtube.com/watch?v=M6aHpD1PyBg\n",
      "[youtube] M6aHpD1PyBg: Downloading webpage\n",
      "[youtube] M6aHpD1PyBg: Downloading ios player API JSON\n",
      "[youtube] M6aHpD1PyBg: Downloading m3u8 information\n"
     ]
    },
    {
     "name": "stderr",
     "output_type": "stream",
     "text": [
      "WARNING: [youtube] M6aHpD1PyBg: nsig extraction failed: Some formats may be missing\n",
      "         n = DzrWTRHEKniXtQL1G0q ; player = https://www.youtube.com/s/player/8d9f6215/player_ias.vflset/en_US/base.js\n",
      "WARNING: [youtube] M6aHpD1PyBg: nsig extraction failed: Some formats may be missing\n",
      "         n = TVI3wKwjXaV6BgLLCD1 ; player = https://www.youtube.com/s/player/8d9f6215/player_ias.vflset/en_US/base.js\n"
     ]
    },
    {
     "name": "stdout",
     "output_type": "stream",
     "text": [
      "[info] M6aHpD1PyBg: Downloading 1 format(s): 140\n",
      "[download] Dartmouth RR 2024 - Round 4 - Michigan PD vs Dartmouth BC/audio.wav has already been downloaded\n",
      "[ExtractAudio] Destination: Dartmouth RR 2024 - Round 4 - Michigan PD vs Dartmouth BC/audio.wav\n",
      "Deleting original file Dartmouth RR 2024 - Round 4 - Michigan PD vs Dartmouth BC/audio.orig.wav (pass -k to keep)\n",
      "[download] Downloading item 7 of 11\n",
      "[youtube] Extracting URL: https://www.youtube.com/watch?v=8dCke6hZSwI\n",
      "[youtube] 8dCke6hZSwI: Downloading webpage\n",
      "[youtube] 8dCke6hZSwI: Downloading ios player API JSON\n",
      "[youtube] 8dCke6hZSwI: Downloading m3u8 information\n"
     ]
    },
    {
     "name": "stderr",
     "output_type": "stream",
     "text": [
      "WARNING: [youtube] 8dCke6hZSwI: nsig extraction failed: Some formats may be missing\n",
      "         n = oaVpLLLuJGjfZiQEaXA ; player = https://www.youtube.com/s/player/8d9f6215/player_ias.vflset/en_US/base.js\n",
      "WARNING: [youtube] 8dCke6hZSwI: nsig extraction failed: Some formats may be missing\n",
      "         n = yly2eE5dH8B6mPxeukh ; player = https://www.youtube.com/s/player/8d9f6215/player_ias.vflset/en_US/base.js\n"
     ]
    },
    {
     "name": "stdout",
     "output_type": "stream",
     "text": [
      "[info] 8dCke6hZSwI: Downloading 1 format(s): 140\n",
      "[download] Dartmouth RR 2024 - Round 4 - Michigan PD vs Dartmouth BC/audio.wav has already been downloaded\n",
      "[ExtractAudio] Destination: Dartmouth RR 2024 - Round 4 - Michigan PD vs Dartmouth BC/audio.wav\n",
      "Deleting original file Dartmouth RR 2024 - Round 4 - Michigan PD vs Dartmouth BC/audio.orig.wav (pass -k to keep)\n",
      "[download] Downloading item 8 of 11\n",
      "[youtube] Extracting URL: https://www.youtube.com/watch?v=gAifhxuK8jE\n",
      "[youtube] gAifhxuK8jE: Downloading webpage\n",
      "[youtube] gAifhxuK8jE: Downloading ios player API JSON\n",
      "[youtube] gAifhxuK8jE: Downloading m3u8 information\n"
     ]
    },
    {
     "name": "stderr",
     "output_type": "stream",
     "text": [
      "WARNING: [youtube] gAifhxuK8jE: nsig extraction failed: Some formats may be missing\n",
      "         n = 6v395w8s2MyhuXrpeOZ ; player = https://www.youtube.com/s/player/8d9f6215/player_ias.vflset/en_US/base.js\n",
      "WARNING: [youtube] gAifhxuK8jE: nsig extraction failed: Some formats may be missing\n",
      "         n = fRNCC9fXmQYPOYFD6vZ ; player = https://www.youtube.com/s/player/8d9f6215/player_ias.vflset/en_US/base.js\n"
     ]
    },
    {
     "name": "stdout",
     "output_type": "stream",
     "text": [
      "[info] gAifhxuK8jE: Downloading 1 format(s): 140\n",
      "[download] Dartmouth RR 2024 - Round 4 - Michigan PD vs Dartmouth BC/audio.wav has already been downloaded\n",
      "[ExtractAudio] Destination: Dartmouth RR 2024 - Round 4 - Michigan PD vs Dartmouth BC/audio.wav\n",
      "Deleting original file Dartmouth RR 2024 - Round 4 - Michigan PD vs Dartmouth BC/audio.orig.wav (pass -k to keep)\n",
      "[download] Downloading item 9 of 11\n",
      "[youtube] Extracting URL: https://www.youtube.com/watch?v=6-W8dcUUNEU\n",
      "[youtube] 6-W8dcUUNEU: Downloading webpage\n",
      "[youtube] 6-W8dcUUNEU: Downloading ios player API JSON\n",
      "[youtube] 6-W8dcUUNEU: Downloading m3u8 information\n"
     ]
    },
    {
     "name": "stderr",
     "output_type": "stream",
     "text": [
      "WARNING: [youtube] 6-W8dcUUNEU: nsig extraction failed: Some formats may be missing\n",
      "         n = A1Y036OVxrF5w9VokOI ; player = https://www.youtube.com/s/player/8d9f6215/player_ias.vflset/en_US/base.js\n",
      "WARNING: [youtube] 6-W8dcUUNEU: nsig extraction failed: Some formats may be missing\n",
      "         n = swO04AHmlpXwrFzsjuY ; player = https://www.youtube.com/s/player/8d9f6215/player_ias.vflset/en_US/base.js\n"
     ]
    },
    {
     "name": "stdout",
     "output_type": "stream",
     "text": [
      "[info] 6-W8dcUUNEU: Downloading 1 format(s): 140\n",
      "[download] Dartmouth RR 2024 - Round 4 - Michigan PD vs Dartmouth BC/audio.wav has already been downloaded\n",
      "[ExtractAudio] Destination: Dartmouth RR 2024 - Round 4 - Michigan PD vs Dartmouth BC/audio.wav\n",
      "Deleting original file Dartmouth RR 2024 - Round 4 - Michigan PD vs Dartmouth BC/audio.orig.wav (pass -k to keep)\n",
      "[download] Downloading item 10 of 11\n",
      "[youtube] Extracting URL: https://www.youtube.com/watch?v=0gcA7kf8kHI\n",
      "[youtube] 0gcA7kf8kHI: Downloading webpage\n",
      "[youtube] 0gcA7kf8kHI: Downloading ios player API JSON\n",
      "[youtube] 0gcA7kf8kHI: Downloading m3u8 information\n"
     ]
    },
    {
     "name": "stderr",
     "output_type": "stream",
     "text": [
      "WARNING: [youtube] 0gcA7kf8kHI: nsig extraction failed: Some formats may be missing\n",
      "         n = DAv1In2m9d9yD2KWGLz ; player = https://www.youtube.com/s/player/8d9f6215/player_ias.vflset/en_US/base.js\n",
      "WARNING: [youtube] 0gcA7kf8kHI: nsig extraction failed: Some formats may be missing\n",
      "         n = m3K89aftLv1V3c9Sva- ; player = https://www.youtube.com/s/player/8d9f6215/player_ias.vflset/en_US/base.js\n"
     ]
    },
    {
     "name": "stdout",
     "output_type": "stream",
     "text": [
      "[info] 0gcA7kf8kHI: Downloading 1 format(s): 140\n",
      "[download] Dartmouth RR 2024 - Round 4 - Michigan PD vs Dartmouth BC/audio.wav has already been downloaded\n",
      "[ExtractAudio] Destination: Dartmouth RR 2024 - Round 4 - Michigan PD vs Dartmouth BC/audio.wav\n",
      "Deleting original file Dartmouth RR 2024 - Round 4 - Michigan PD vs Dartmouth BC/audio.orig.wav (pass -k to keep)\n",
      "[download] Downloading item 11 of 11\n",
      "[youtube] Extracting URL: https://www.youtube.com/watch?v=ISuVoH5Nlx8\n",
      "[youtube] ISuVoH5Nlx8: Downloading webpage\n",
      "[youtube] ISuVoH5Nlx8: Downloading ios player API JSON\n",
      "[youtube] ISuVoH5Nlx8: Downloading m3u8 information\n"
     ]
    },
    {
     "name": "stderr",
     "output_type": "stream",
     "text": [
      "WARNING: [youtube] ISuVoH5Nlx8: nsig extraction failed: Some formats may be missing\n",
      "         n = iWehw_9LKwGFemIiY-k ; player = https://www.youtube.com/s/player/8d9f6215/player_ias.vflset/en_US/base.js\n",
      "WARNING: [youtube] ISuVoH5Nlx8: nsig extraction failed: Some formats may be missing\n",
      "         n = X0reG2mSYu5s0HJY9Mr ; player = https://www.youtube.com/s/player/8d9f6215/player_ias.vflset/en_US/base.js\n"
     ]
    },
    {
     "name": "stdout",
     "output_type": "stream",
     "text": [
      "[info] ISuVoH5Nlx8: Downloading 1 format(s): 140\n",
      "[download] Dartmouth RR 2024 - Round 4 - Michigan PD vs Dartmouth BC/audio.wav has already been downloaded\n",
      "[ExtractAudio] Destination: Dartmouth RR 2024 - Round 4 - Michigan PD vs Dartmouth BC/audio.wav\n",
      "Deleting original file Dartmouth RR 2024 - Round 4 - Michigan PD vs Dartmouth BC/audio.orig.wav (pass -k to keep)\n",
      "[download] Finished downloading playlist: Dartmouth RR 2024\n"
     ]
    },
    {
     "name": "stderr",
     "output_type": "stream",
     "text": [
      "/Users/ashle/opt/anaconda3/envs/ml/lib/python3.9/site-packages/whisper/transcribe.py:126: UserWarning: FP16 is not supported on CPU; using FP32 instead\n",
      "  warnings.warn(\"FP16 is not supported on CPU; using FP32 instead\")\n"
     ]
    }
   ],
   "source": [
    "debate = debates[0]\n",
    "process_debate(debate)"
   ]
  }
 ],
 "metadata": {
  "kernelspec": {
   "display_name": "ml",
   "language": "python",
   "name": "python3"
  },
  "language_info": {
   "codemirror_mode": {
    "name": "ipython",
    "version": 3
   },
   "file_extension": ".py",
   "mimetype": "text/x-python",
   "name": "python",
   "nbconvert_exporter": "python",
   "pygments_lexer": "ipython3",
   "version": "3.9.19"
  }
 },
 "nbformat": 4,
 "nbformat_minor": 2
}
