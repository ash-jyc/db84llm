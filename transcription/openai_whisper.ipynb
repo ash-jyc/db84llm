{
 "cells": [
  {
   "cell_type": "markdown",
   "metadata": {},
   "source": [
    "# Example"
   ]
  },
  {
   "cell_type": "code",
   "execution_count": 3,
   "metadata": {},
   "outputs": [
    {
     "name": "stderr",
     "output_type": "stream",
     "text": [
      "/Users/ashle/opt/anaconda3/envs/ml/lib/python3.9/site-packages/whisper/transcribe.py:126: UserWarning: FP16 is not supported on CPU; using FP32 instead\n",
      "  warnings.warn(\"FP16 is not supported on CPU; using FP32 instead\")\n"
     ]
    }
   ],
   "source": [
    "import whisper\n",
    "\n",
    "model = whisper.load_model(\"base\")\n",
    "result = model.transcribe(\"Kansas KR vs Harvard MS - NDT - Semis - 2018/Kansas KR vs Harvard MS - NDT - Semis - 2018 [mkahaj93Xuo].mp3\")"
   ]
  },
  {
   "cell_type": "code",
   "execution_count": 4,
   "metadata": {},
   "outputs": [],
   "source": [
    "# output result to file\n",
    "with open(\"whisper.txt\", \"w\") as file:\n",
    "    file.write(result[\"text\"])\n",
    "    "
   ]
  },
  {
   "cell_type": "markdown",
   "metadata": {},
   "source": [
    "# Test 4 Debates"
   ]
  },
  {
   "cell_type": "code",
   "execution_count": 12,
   "metadata": {},
   "outputs": [],
   "source": [
    "# open list_of_debates.csv, contains name, link, and winner of each debate. want to run whisper on each debate. put whisper result in new folder named after name of debate\n",
    "# start from scratch and ignore any previous results\n",
    "# use ThreadPoolExecutor to run multiple whispers at once\n",
    "\n",
    "import csv\n",
    "import os\n",
    "import whisper\n",
    "from concurrent.futures import ThreadPoolExecutor\n",
    "\n",
    "model = whisper.load_model(\"base.en\")\n",
    "# get audio file from link\n",
    "def download_audio(link, dir_name):\n",
    "    # download audio from link\n",
    "    os.system(f\"yt-dlp -x --audio-format wav \\\"{link}\\\" -o \\\"{dir_name}/audio.%(ext)s\\\"\")\n",
    "\n",
    "# run whisper on audio file\n",
    "def run_whisper(dir_name):\n",
    "    result = model.transcribe(f\"{dir_name}/audio.wav\")\n",
    "    with open(f\"{dir_name}/whisper-base-en.txt\", \"w\") as file:\n",
    "        file.write(result[\"text\"])\n",
    "\n",
    "# create directory for each debate\n",
    "def create_dir(name):\n",
    "    os.makedirs(name, exist_ok=True)\n",
    "\n",
    "# process each debate\n",
    "def process_debate(debate):\n",
    "    # create_dir(debate[\"name\"])\n",
    "    # download_audio(debate[\"yt_link\"], debate[\"name\"])\n",
    "    run_whisper(debate[\"name\"])\n"
   ]
  },
  {
   "cell_type": "code",
   "execution_count": 13,
   "metadata": {},
   "outputs": [
    {
     "data": {
      "text/plain": [
       "[{'name': 'Dartmouth RR 2024 - Round 4 - Michigan PD vs Dartmouth BC',\n",
       "  'yt_link': 'https://www.youtube.com/watch?v=UniwtFXoPt4',\n",
       "  'winner': 'aff'},\n",
       " {'name': 'Dartmouth RR 2024 - Round 5 - Dartmouth BC vs Emory KR',\n",
       "  'yt_link': 'https://www.youtube.com/watch?v=8dCke6hZSwI',\n",
       "  'winner': 'aff'},\n",
       " {'name': 'NDT 2023 - Finals - Michigan PP (AFF) vs. Wake Forest RT (NEG)',\n",
       "  'yt_link': 'https://www.youtube.com/watch?v=NBzGKSQwldk',\n",
       "  'winner': 'neg'},\n",
       " {'name': 'NDT 2024 -- Round the Fourth -- Dartmouth BC (AFF) vs. Kansas WW (NEG)',\n",
       "  'yt_link': 'https://www.youtube.com/watch?v=W628nhEcBg0',\n",
       "  'winner': 'aff'}]"
      ]
     },
     "execution_count": 13,
     "metadata": {},
     "output_type": "execute_result"
    }
   ],
   "source": [
    "# get name, link, and winner of each debate\n",
    "with open(\"list_of_debates.csv\") as file:\n",
    "    reader = csv.DictReader(file)\n",
    "    debates = list(reader)\n",
    "\n",
    "debates"
   ]
  },
  {
   "cell_type": "code",
   "execution_count": 14,
   "metadata": {},
   "outputs": [
    {
     "name": "stderr",
     "output_type": "stream",
     "text": [
      "/Users/ashle/opt/anaconda3/envs/ml/lib/python3.9/site-packages/whisper/transcribe.py:126: UserWarning: FP16 is not supported on CPU; using FP32 instead\n",
      "  warnings.warn(\"FP16 is not supported on CPU; using FP32 instead\")\n",
      "/Users/ashle/opt/anaconda3/envs/ml/lib/python3.9/site-packages/whisper/transcribe.py:126: UserWarning: FP16 is not supported on CPU; using FP32 instead\n",
      "  warnings.warn(\"FP16 is not supported on CPU; using FP32 instead\")\n",
      "/Users/ashle/opt/anaconda3/envs/ml/lib/python3.9/site-packages/whisper/transcribe.py:126: UserWarning: FP16 is not supported on CPU; using FP32 instead\n",
      "  warnings.warn(\"FP16 is not supported on CPU; using FP32 instead\")\n",
      "/Users/ashle/opt/anaconda3/envs/ml/lib/python3.9/site-packages/whisper/transcribe.py:126: UserWarning: FP16 is not supported on CPU; using FP32 instead\n",
      "  warnings.warn(\"FP16 is not supported on CPU; using FP32 instead\")\n"
     ]
    }
   ],
   "source": [
    "# # run whisper on each debate\n",
    "# with ThreadPoolExecutor(max_workers=4) as executor:\n",
    "#     futures = [executor.submit(process_debate, debate) for debate in debates]\n",
    "#     for future in futures:\n",
    "#         try:\n",
    "#             future.result()\n",
    "#         except Exception as e:\n",
    "#             print(e)\n",
    "#             continue\n",
    "\n",
    "for debate in debates:\n",
    "    run_whisper(debate[\"name\"])"
   ]
  },
  {
   "cell_type": "code",
   "execution_count": null,
   "metadata": {},
   "outputs": [],
   "source": [
    "# delete audio files\n",
    "for debate in debates:\n",
    "    name = debate[\"name\"]\n",
    "    os.remove(f\"{name}/audio.wav\")"
   ]
  },
  {
   "cell_type": "code",
   "execution_count": 4,
   "metadata": {},
   "outputs": [
    {
     "name": "stdout",
     "output_type": "stream",
     "text": [
      "[youtube:tab] Extracting URL: https://www.youtube.com/watch?v=UniwtFXoPt4&list=PLKl-tVLat4pLOL2uXh7RuAO5fub1YuGsB&index=5\n",
      "[youtube:tab] Downloading playlist PLKl-tVLat4pLOL2uXh7RuAO5fub1YuGsB - add --no-playlist to download just the video UniwtFXoPt4\n",
      "[youtube:tab] PLKl-tVLat4pLOL2uXh7RuAO5fub1YuGsB: Downloading webpage\n",
      "[youtube:tab] Extracting URL: https://www.youtube.com/playlist?list=PLKl-tVLat4pLOL2uXh7RuAO5fub1YuGsB\n",
      "[youtube:tab] PLKl-tVLat4pLOL2uXh7RuAO5fub1YuGsB: Downloading webpage\n",
      "[youtube:tab] PLKl-tVLat4pLOL2uXh7RuAO5fub1YuGsB: Redownloading playlist API JSON with unavailable videos\n",
      "[download] Downloading playlist: Dartmouth RR 2024\n",
      "[youtube:tab] PLKl-tVLat4pLOL2uXh7RuAO5fub1YuGsB page 1: Downloading API JSON\n",
      "[youtube:tab] PLKl-tVLat4pLOL2uXh7RuAO5fub1YuGsB page 1: Downloading API JSON\n",
      "[youtube:tab] PLKl-tVLat4pLOL2uXh7RuAO5fub1YuGsB page 1: Downloading API JSON\n",
      "[youtube:tab] PLKl-tVLat4pLOL2uXh7RuAO5fub1YuGsB page 1: Downloading API JSON\n"
     ]
    },
    {
     "name": "stderr",
     "output_type": "stream",
     "text": [
      "WARNING: [youtube:tab] Incomplete data received. Retrying (1/3)...\n",
      "WARNING: [youtube:tab] Incomplete data received. Retrying (2/3)...\n",
      "WARNING: [youtube:tab] Incomplete data received. Retrying (3/3)...\n",
      "WARNING: [youtube:tab] Incomplete data received. Giving up after 3 retries\n"
     ]
    },
    {
     "name": "stdout",
     "output_type": "stream",
     "text": [
      "[youtube:tab] Playlist Dartmouth RR 2024: Downloading 11 items of 11\n",
      "[download] Downloading item 1 of 11\n",
      "[youtube] Extracting URL: https://www.youtube.com/watch?v=usaFaMR9t64\n",
      "[youtube] usaFaMR9t64: Downloading webpage\n",
      "[youtube] usaFaMR9t64: Downloading ios player API JSON\n",
      "[youtube] usaFaMR9t64: Downloading player 8d9f6215\n"
     ]
    },
    {
     "name": "stderr",
     "output_type": "stream",
     "text": [
      "WARNING: [youtube] usaFaMR9t64: nsig extraction failed: Some formats may be missing\n",
      "         n = XeoWR5KHnKTe327_kWw ; player = https://www.youtube.com/s/player/8d9f6215/player_ias.vflset/en_US/base.js\n",
      "WARNING: [youtube] usaFaMR9t64: nsig extraction failed: Some formats may be missing\n",
      "         n = 02h7fzEstzwF-NowHVy ; player = https://www.youtube.com/s/player/8d9f6215/player_ias.vflset/en_US/base.js\n"
     ]
    },
    {
     "name": "stdout",
     "output_type": "stream",
     "text": [
      "[youtube] usaFaMR9t64: Downloading m3u8 information\n",
      "[info] usaFaMR9t64: Downloading 1 format(s): 140\n",
      "[download] Dartmouth RR 2024 - Round 4 - Michigan PD vs Dartmouth BC/audio.wav has already been downloaded\n",
      "[ExtractAudio] Destination: Dartmouth RR 2024 - Round 4 - Michigan PD vs Dartmouth BC/audio.wav\n",
      "Deleting original file Dartmouth RR 2024 - Round 4 - Michigan PD vs Dartmouth BC/audio.orig.wav (pass -k to keep)\n",
      "[download] Downloading item 2 of 11\n",
      "[youtube] Extracting URL: https://www.youtube.com/watch?v=8SUTs_Zv6iM\n",
      "[youtube] 8SUTs_Zv6iM: Downloading webpage\n",
      "[youtube] 8SUTs_Zv6iM: Downloading ios player API JSON\n",
      "[youtube] 8SUTs_Zv6iM: Downloading m3u8 information\n"
     ]
    },
    {
     "name": "stderr",
     "output_type": "stream",
     "text": [
      "WARNING: [youtube] 8SUTs_Zv6iM: nsig extraction failed: Some formats may be missing\n",
      "         n = J_MM1eDyWIS2lUGzGPv ; player = https://www.youtube.com/s/player/8d9f6215/player_ias.vflset/en_US/base.js\n",
      "WARNING: [youtube] 8SUTs_Zv6iM: nsig extraction failed: Some formats may be missing\n",
      "         n = OuhkVUXag6BzlmbyJkM ; player = https://www.youtube.com/s/player/8d9f6215/player_ias.vflset/en_US/base.js\n"
     ]
    },
    {
     "name": "stdout",
     "output_type": "stream",
     "text": [
      "[info] 8SUTs_Zv6iM: Downloading 1 format(s): 140\n",
      "[download] Dartmouth RR 2024 - Round 4 - Michigan PD vs Dartmouth BC/audio.wav has already been downloaded\n",
      "[ExtractAudio] Destination: Dartmouth RR 2024 - Round 4 - Michigan PD vs Dartmouth BC/audio.wav\n",
      "Deleting original file Dartmouth RR 2024 - Round 4 - Michigan PD vs Dartmouth BC/audio.orig.wav (pass -k to keep)\n",
      "[download] Downloading item 3 of 11\n",
      "[youtube] Extracting URL: https://www.youtube.com/watch?v=23eTgUI5N3Q\n",
      "[youtube] 23eTgUI5N3Q: Downloading webpage\n",
      "[youtube] 23eTgUI5N3Q: Downloading ios player API JSON\n",
      "[youtube] 23eTgUI5N3Q: Downloading m3u8 information\n"
     ]
    },
    {
     "name": "stderr",
     "output_type": "stream",
     "text": [
      "WARNING: [youtube] 23eTgUI5N3Q: nsig extraction failed: Some formats may be missing\n",
      "         n = ZKoNphfeOzHQPSCK07p ; player = https://www.youtube.com/s/player/8d9f6215/player_ias.vflset/en_US/base.js\n",
      "WARNING: [youtube] 23eTgUI5N3Q: nsig extraction failed: Some formats may be missing\n",
      "         n = Tq0tjtVDCbHi9KKI6ZZ ; player = https://www.youtube.com/s/player/8d9f6215/player_ias.vflset/en_US/base.js\n"
     ]
    },
    {
     "name": "stdout",
     "output_type": "stream",
     "text": [
      "[info] 23eTgUI5N3Q: Downloading 1 format(s): 140\n",
      "[download] Dartmouth RR 2024 - Round 4 - Michigan PD vs Dartmouth BC/audio.wav has already been downloaded\n",
      "[ExtractAudio] Destination: Dartmouth RR 2024 - Round 4 - Michigan PD vs Dartmouth BC/audio.wav\n",
      "Deleting original file Dartmouth RR 2024 - Round 4 - Michigan PD vs Dartmouth BC/audio.orig.wav (pass -k to keep)\n",
      "[download] Downloading item 4 of 11\n",
      "[youtube] Extracting URL: https://www.youtube.com/watch?v=dUavVjZsWXo\n",
      "[youtube] dUavVjZsWXo: Downloading webpage\n",
      "[youtube] dUavVjZsWXo: Downloading ios player API JSON\n",
      "[youtube] dUavVjZsWXo: Downloading m3u8 information\n"
     ]
    },
    {
     "name": "stderr",
     "output_type": "stream",
     "text": [
      "WARNING: [youtube] dUavVjZsWXo: nsig extraction failed: Some formats may be missing\n",
      "         n = tCyfPJG1VrYxLb_zSv3 ; player = https://www.youtube.com/s/player/8d9f6215/player_ias.vflset/en_US/base.js\n",
      "WARNING: [youtube] dUavVjZsWXo: nsig extraction failed: Some formats may be missing\n",
      "         n = 0QhkCXekmtgeFGBOdwx ; player = https://www.youtube.com/s/player/8d9f6215/player_ias.vflset/en_US/base.js\n"
     ]
    },
    {
     "name": "stdout",
     "output_type": "stream",
     "text": [
      "[info] dUavVjZsWXo: Downloading 1 format(s): 140\n",
      "[download] Dartmouth RR 2024 - Round 4 - Michigan PD vs Dartmouth BC/audio.wav has already been downloaded\n",
      "[ExtractAudio] Destination: Dartmouth RR 2024 - Round 4 - Michigan PD vs Dartmouth BC/audio.wav\n",
      "Deleting original file Dartmouth RR 2024 - Round 4 - Michigan PD vs Dartmouth BC/audio.orig.wav (pass -k to keep)\n",
      "[download] Downloading item 5 of 11\n",
      "[youtube] Extracting URL: https://www.youtube.com/watch?v=UniwtFXoPt4\n",
      "[youtube] UniwtFXoPt4: Downloading webpage\n",
      "[youtube] UniwtFXoPt4: Downloading ios player API JSON\n",
      "[youtube] UniwtFXoPt4: Downloading m3u8 information\n"
     ]
    },
    {
     "name": "stderr",
     "output_type": "stream",
     "text": [
      "WARNING: [youtube] UniwtFXoPt4: nsig extraction failed: Some formats may be missing\n",
      "         n = NbH9ZY1Kg4VAlZVorZp ; player = https://www.youtube.com/s/player/8d9f6215/player_ias.vflset/en_US/base.js\n",
      "WARNING: [youtube] UniwtFXoPt4: nsig extraction failed: Some formats may be missing\n",
      "         n = pwErIsLZyT00rDKNZWV ; player = https://www.youtube.com/s/player/8d9f6215/player_ias.vflset/en_US/base.js\n"
     ]
    },
    {
     "name": "stdout",
     "output_type": "stream",
     "text": [
      "[info] UniwtFXoPt4: Downloading 1 format(s): 140\n",
      "[download] Dartmouth RR 2024 - Round 4 - Michigan PD vs Dartmouth BC/audio.wav has already been downloaded\n",
      "[ExtractAudio] Destination: Dartmouth RR 2024 - Round 4 - Michigan PD vs Dartmouth BC/audio.wav\n",
      "Deleting original file Dartmouth RR 2024 - Round 4 - Michigan PD vs Dartmouth BC/audio.orig.wav (pass -k to keep)\n",
      "[download] Downloading item 6 of 11\n",
      "[youtube] Extracting URL: https://www.youtube.com/watch?v=M6aHpD1PyBg\n",
      "[youtube] M6aHpD1PyBg: Downloading webpage\n",
      "[youtube] M6aHpD1PyBg: Downloading ios player API JSON\n",
      "[youtube] M6aHpD1PyBg: Downloading m3u8 information\n"
     ]
    },
    {
     "name": "stderr",
     "output_type": "stream",
     "text": [
      "WARNING: [youtube] M6aHpD1PyBg: nsig extraction failed: Some formats may be missing\n",
      "         n = DzrWTRHEKniXtQL1G0q ; player = https://www.youtube.com/s/player/8d9f6215/player_ias.vflset/en_US/base.js\n",
      "WARNING: [youtube] M6aHpD1PyBg: nsig extraction failed: Some formats may be missing\n",
      "         n = TVI3wKwjXaV6BgLLCD1 ; player = https://www.youtube.com/s/player/8d9f6215/player_ias.vflset/en_US/base.js\n"
     ]
    },
    {
     "name": "stdout",
     "output_type": "stream",
     "text": [
      "[info] M6aHpD1PyBg: Downloading 1 format(s): 140\n",
      "[download] Dartmouth RR 2024 - Round 4 - Michigan PD vs Dartmouth BC/audio.wav has already been downloaded\n",
      "[ExtractAudio] Destination: Dartmouth RR 2024 - Round 4 - Michigan PD vs Dartmouth BC/audio.wav\n",
      "Deleting original file Dartmouth RR 2024 - Round 4 - Michigan PD vs Dartmouth BC/audio.orig.wav (pass -k to keep)\n",
      "[download] Downloading item 7 of 11\n",
      "[youtube] Extracting URL: https://www.youtube.com/watch?v=8dCke6hZSwI\n",
      "[youtube] 8dCke6hZSwI: Downloading webpage\n",
      "[youtube] 8dCke6hZSwI: Downloading ios player API JSON\n",
      "[youtube] 8dCke6hZSwI: Downloading m3u8 information\n"
     ]
    },
    {
     "name": "stderr",
     "output_type": "stream",
     "text": [
      "WARNING: [youtube] 8dCke6hZSwI: nsig extraction failed: Some formats may be missing\n",
      "         n = oaVpLLLuJGjfZiQEaXA ; player = https://www.youtube.com/s/player/8d9f6215/player_ias.vflset/en_US/base.js\n",
      "WARNING: [youtube] 8dCke6hZSwI: nsig extraction failed: Some formats may be missing\n",
      "         n = yly2eE5dH8B6mPxeukh ; player = https://www.youtube.com/s/player/8d9f6215/player_ias.vflset/en_US/base.js\n"
     ]
    },
    {
     "name": "stdout",
     "output_type": "stream",
     "text": [
      "[info] 8dCke6hZSwI: Downloading 1 format(s): 140\n",
      "[download] Dartmouth RR 2024 - Round 4 - Michigan PD vs Dartmouth BC/audio.wav has already been downloaded\n",
      "[ExtractAudio] Destination: Dartmouth RR 2024 - Round 4 - Michigan PD vs Dartmouth BC/audio.wav\n",
      "Deleting original file Dartmouth RR 2024 - Round 4 - Michigan PD vs Dartmouth BC/audio.orig.wav (pass -k to keep)\n",
      "[download] Downloading item 8 of 11\n",
      "[youtube] Extracting URL: https://www.youtube.com/watch?v=gAifhxuK8jE\n",
      "[youtube] gAifhxuK8jE: Downloading webpage\n",
      "[youtube] gAifhxuK8jE: Downloading ios player API JSON\n",
      "[youtube] gAifhxuK8jE: Downloading m3u8 information\n"
     ]
    },
    {
     "name": "stderr",
     "output_type": "stream",
     "text": [
      "WARNING: [youtube] gAifhxuK8jE: nsig extraction failed: Some formats may be missing\n",
      "         n = 6v395w8s2MyhuXrpeOZ ; player = https://www.youtube.com/s/player/8d9f6215/player_ias.vflset/en_US/base.js\n",
      "WARNING: [youtube] gAifhxuK8jE: nsig extraction failed: Some formats may be missing\n",
      "         n = fRNCC9fXmQYPOYFD6vZ ; player = https://www.youtube.com/s/player/8d9f6215/player_ias.vflset/en_US/base.js\n"
     ]
    },
    {
     "name": "stdout",
     "output_type": "stream",
     "text": [
      "[info] gAifhxuK8jE: Downloading 1 format(s): 140\n",
      "[download] Dartmouth RR 2024 - Round 4 - Michigan PD vs Dartmouth BC/audio.wav has already been downloaded\n",
      "[ExtractAudio] Destination: Dartmouth RR 2024 - Round 4 - Michigan PD vs Dartmouth BC/audio.wav\n",
      "Deleting original file Dartmouth RR 2024 - Round 4 - Michigan PD vs Dartmouth BC/audio.orig.wav (pass -k to keep)\n",
      "[download] Downloading item 9 of 11\n",
      "[youtube] Extracting URL: https://www.youtube.com/watch?v=6-W8dcUUNEU\n",
      "[youtube] 6-W8dcUUNEU: Downloading webpage\n",
      "[youtube] 6-W8dcUUNEU: Downloading ios player API JSON\n",
      "[youtube] 6-W8dcUUNEU: Downloading m3u8 information\n"
     ]
    },
    {
     "name": "stderr",
     "output_type": "stream",
     "text": [
      "WARNING: [youtube] 6-W8dcUUNEU: nsig extraction failed: Some formats may be missing\n",
      "         n = A1Y036OVxrF5w9VokOI ; player = https://www.youtube.com/s/player/8d9f6215/player_ias.vflset/en_US/base.js\n",
      "WARNING: [youtube] 6-W8dcUUNEU: nsig extraction failed: Some formats may be missing\n",
      "         n = swO04AHmlpXwrFzsjuY ; player = https://www.youtube.com/s/player/8d9f6215/player_ias.vflset/en_US/base.js\n"
     ]
    },
    {
     "name": "stdout",
     "output_type": "stream",
     "text": [
      "[info] 6-W8dcUUNEU: Downloading 1 format(s): 140\n",
      "[download] Dartmouth RR 2024 - Round 4 - Michigan PD vs Dartmouth BC/audio.wav has already been downloaded\n",
      "[ExtractAudio] Destination: Dartmouth RR 2024 - Round 4 - Michigan PD vs Dartmouth BC/audio.wav\n",
      "Deleting original file Dartmouth RR 2024 - Round 4 - Michigan PD vs Dartmouth BC/audio.orig.wav (pass -k to keep)\n",
      "[download] Downloading item 10 of 11\n",
      "[youtube] Extracting URL: https://www.youtube.com/watch?v=0gcA7kf8kHI\n",
      "[youtube] 0gcA7kf8kHI: Downloading webpage\n",
      "[youtube] 0gcA7kf8kHI: Downloading ios player API JSON\n",
      "[youtube] 0gcA7kf8kHI: Downloading m3u8 information\n"
     ]
    },
    {
     "name": "stderr",
     "output_type": "stream",
     "text": [
      "WARNING: [youtube] 0gcA7kf8kHI: nsig extraction failed: Some formats may be missing\n",
      "         n = DAv1In2m9d9yD2KWGLz ; player = https://www.youtube.com/s/player/8d9f6215/player_ias.vflset/en_US/base.js\n",
      "WARNING: [youtube] 0gcA7kf8kHI: nsig extraction failed: Some formats may be missing\n",
      "         n = m3K89aftLv1V3c9Sva- ; player = https://www.youtube.com/s/player/8d9f6215/player_ias.vflset/en_US/base.js\n"
     ]
    },
    {
     "name": "stdout",
     "output_type": "stream",
     "text": [
      "[info] 0gcA7kf8kHI: Downloading 1 format(s): 140\n",
      "[download] Dartmouth RR 2024 - Round 4 - Michigan PD vs Dartmouth BC/audio.wav has already been downloaded\n",
      "[ExtractAudio] Destination: Dartmouth RR 2024 - Round 4 - Michigan PD vs Dartmouth BC/audio.wav\n",
      "Deleting original file Dartmouth RR 2024 - Round 4 - Michigan PD vs Dartmouth BC/audio.orig.wav (pass -k to keep)\n",
      "[download] Downloading item 11 of 11\n",
      "[youtube] Extracting URL: https://www.youtube.com/watch?v=ISuVoH5Nlx8\n",
      "[youtube] ISuVoH5Nlx8: Downloading webpage\n",
      "[youtube] ISuVoH5Nlx8: Downloading ios player API JSON\n",
      "[youtube] ISuVoH5Nlx8: Downloading m3u8 information\n"
     ]
    },
    {
     "name": "stderr",
     "output_type": "stream",
     "text": [
      "WARNING: [youtube] ISuVoH5Nlx8: nsig extraction failed: Some formats may be missing\n",
      "         n = iWehw_9LKwGFemIiY-k ; player = https://www.youtube.com/s/player/8d9f6215/player_ias.vflset/en_US/base.js\n",
      "WARNING: [youtube] ISuVoH5Nlx8: nsig extraction failed: Some formats may be missing\n",
      "         n = X0reG2mSYu5s0HJY9Mr ; player = https://www.youtube.com/s/player/8d9f6215/player_ias.vflset/en_US/base.js\n"
     ]
    },
    {
     "name": "stdout",
     "output_type": "stream",
     "text": [
      "[info] ISuVoH5Nlx8: Downloading 1 format(s): 140\n",
      "[download] Dartmouth RR 2024 - Round 4 - Michigan PD vs Dartmouth BC/audio.wav has already been downloaded\n",
      "[ExtractAudio] Destination: Dartmouth RR 2024 - Round 4 - Michigan PD vs Dartmouth BC/audio.wav\n",
      "Deleting original file Dartmouth RR 2024 - Round 4 - Michigan PD vs Dartmouth BC/audio.orig.wav (pass -k to keep)\n",
      "[download] Finished downloading playlist: Dartmouth RR 2024\n"
     ]
    },
    {
     "name": "stderr",
     "output_type": "stream",
     "text": [
      "/Users/ashle/opt/anaconda3/envs/ml/lib/python3.9/site-packages/whisper/transcribe.py:126: UserWarning: FP16 is not supported on CPU; using FP32 instead\n",
      "  warnings.warn(\"FP16 is not supported on CPU; using FP32 instead\")\n"
     ]
    }
   ],
   "source": [
    "debate = debates[0]\n",
    "process_debate(debate)"
   ]
  }
 ],
 "metadata": {
  "kernelspec": {
   "display_name": "ml",
   "language": "python",
   "name": "python3"
  },
  "language_info": {
   "codemirror_mode": {
    "name": "ipython",
    "version": 3
   },
   "file_extension": ".py",
   "mimetype": "text/x-python",
   "name": "python",
   "nbconvert_exporter": "python",
   "pygments_lexer": "ipython3",
   "version": "3.9.19"
  }
 },
 "nbformat": 4,
 "nbformat_minor": 2
}
