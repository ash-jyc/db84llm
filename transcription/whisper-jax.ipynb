{
 "cells": [
  {
   "cell_type": "markdown",
   "metadata": {},
   "source": [
    "# Slicing File"
   ]
  },
  {
   "cell_type": "code",
   "execution_count": 6,
   "metadata": {},
   "outputs": [],
   "source": [
    "# get file\n",
    "import csv\n",
    "DEBATES_FILE = './list_of_debates.csv'\n",
    "\n",
    "with open(DEBATES_FILE, 'r') as f:\n",
    "    reader = csv.DictReader(f)\n",
    "    list_of_debates = {}\n",
    "    for row in reader:\n",
    "        list_of_debates[row['name']] = row\n",
    "\n",
    "single_debate = list_of_debates[\"Dartmouth RR 2024 - Round 4 - Michigan PD vs Dartmouth BC\"]\n",
    "\n",
    "audio_file = f\"./debates/{single_debate['name']}/audio.wav\"\n",
    "audio_dir = f\"./debates/{single_debate['name']}/speeches/audio_files/\"\n",
    "speeches = [\"1ac\", \"1nc\", \"2ac\", \"2nc\", \"1nr\", \"1ar\", \"2nr\", \"2ar\"]"
   ]
  },
  {
   "cell_type": "code",
   "execution_count": null,
   "metadata": {},
   "outputs": [],
   "source": [
    "# slicing file\n",
    "import sox\n",
    "\n",
    "# slice based off speech\n",
    "def slice_audio(audio_file, start_time, speech):\n",
    "    # convert time from \"hh:mm:ss\"\n",
    "    start_time = sum([int(x) * 60 ** i for i, x in enumerate(start_time.split(\":\")[::-1])])\n",
    "    if speech[-1] == 'c':\n",
    "        end_time = start_time + 8 * 60\n",
    "    else:\n",
    "        end_time = start_time + 5 * 60\n",
    "    output_file = f\"{audio_dir}{speech}.wav\"\n",
    "    tfm = sox.Transformer()\n",
    "    tfm.trim(start_time, end_time)\n",
    "    tfm.build(audio_file, output_file)\n",
    "    \n",
    "for speech in speeches:\n",
    "    slice_audio(audio_file, single_debate[speech], speech)"
   ]
  },
  {
   "cell_type": "markdown",
   "metadata": {},
   "source": [
    "# Transcription"
   ]
  },
  {
   "cell_type": "code",
   "execution_count": 2,
   "metadata": {},
   "outputs": [
    {
     "name": "stdout",
     "output_type": "stream",
     "text": [
      "[0 1 2 3 4 5 6 7 8 9]\n"
     ]
    }
   ],
   "source": [
    "# load jax env variables for mac\n",
    "from dotenv import load_dotenv\n",
    "\n",
    "load_dotenv()\n",
    "\n",
    "# test\n",
    "import jax\n",
    "print(jax.numpy.arange(10))"
   ]
  },
  {
   "cell_type": "code",
   "execution_count": 3,
   "metadata": {},
   "outputs": [
    {
     "name": "stderr",
     "output_type": "stream",
     "text": [
      "/Users/ashle/opt/anaconda3/envs/ml/lib/python3.9/site-packages/huggingface_hub/file_download.py:1132: FutureWarning: `resume_download` is deprecated and will be removed in version 1.0.0. Downloads always resume when possible. If you want to force a new download, use `force_download=True`.\n",
      "  warnings.warn(\n"
     ]
    }
   ],
   "source": [
    "# import pipeline\n",
    "from whisper_jax import FlaxWhisperPipline\n",
    "\n",
    "# instantiate pipeline\n",
    "pipeline = FlaxWhisperPipline(\"openai/whisper-large-v2\")"
   ]
  },
  {
   "cell_type": "code",
   "execution_count": 4,
   "metadata": {},
   "outputs": [],
   "source": [
    "# JIT compile the forward call - slow, but we only do once\n",
    "text = pipeline(\"./debates/Dartmouth RR 2024 - Round 4 - Michigan PD vs Dartmouth BC/audio_trimmed.wav\")"
   ]
  },
  {
   "cell_type": "code",
   "execution_count": 11,
   "metadata": {},
   "outputs": [],
   "source": [
    "# used cached function thereafter - super fast!!\n",
    "# transcribe each speech\n",
    "transcription_dir = f\"./debates/{single_debate['name']}/speeches/transcriptions/\"\n",
    "# speeches = [\"1nr\", \"1ar\", \"2nr\", \"2ar\"]\n",
    "speeches = [\"1ar\"]\n",
    "for speech in speeches:\n",
    "    text = pipeline(f\"{audio_dir}/{speech}.wav\", task=\"transcribe\")\n",
    "    # save the text to a file\n",
    "    with open(f\"{transcription_dir}/{speech}.txt\", \"w\") as f:\n",
    "        f.write(text[\"text\"])\n"
   ]
  },
  {
   "cell_type": "code",
   "execution_count": 10,
   "metadata": {},
   "outputs": [
    {
     "name": "stdout",
     "output_type": "stream",
     "text": [
      " I'm going to start with a simulation of a level. We're going to see a simulation of a level. I I just don't really want to do this because there's a lot of things that we're doing inside of my house. I'm talking to people for information, whether it's security, something we're doing, or social work. Some of the rest are cuts, understating people's needing to gain information. Again, this post wouldn't be here without the support of the community, which is something I love. It's an article I wrote that's really important to me. I just don't want to do that because I'm one of the people that wasn't interested in working with people. I'm just talking to people for information, whether it's social work, whether it's health, whether it's social work, social change, I don't have anything to make an information story about. I just don't really see the importance of what I'm trying to do. I just don't see the importance of making an information story, especially for the youth and finance. I just want to say to the rest of the people that I never agreed to help. People disruption is existential, but I don't see the receiving end of multiple duties, which was that the receiving end was really good news for the military personnel using the finance at disposition to receive the military aid. Now, people disrupted the access to such a manned IT workspace, and during the wait, military personnel were let in and out of the facility. Of course, this was a very hard and watery endeavor, and they never served that up, seeking to lower their foot in medical. But I've served in the ballistic and commercial section of the military, and today, I feel as though I have served a very successful military communication member, and I consider myself the first to be a secretary of the military, and I'm really proud of this. I've served in the military, so I actually should not be the first. Many of us are still challenging the first men and women's early nuclear use class training program, however, because the West might be referred to as the universe of nothing else, but rather the potential of the universe, which says, what do you think of the original potential of the early universe, what is the actual access to that, and letting you wish upon a cloud of the sun, knowing that the way of the universe has its roots in the nuclear system, as well as the way the broader universe has its resources, and where the potential of the eye-blinding potential of the universe is already nuclear, for something so highly of an interesting way of how the theoretical experience may start to propagate, the confluence of our civil or tactical and universal structure andies that. Rests on the basis of political incursion. Ever since the creation of the colonial British Empire, civil and political institutions have been in constant conflict. The British Empire has been in constant conflict with the United States. The United States has been in constant conflict with the United States. The United States has been in constant conflict with the United States. The United States has been in constant conflict with the United States. The United States has been in constant conflict with the United States. The United States has been in constant conflict with the United States. The United States has been in constant conflict with the United States. The United States has been in constant conflict with the United States. The United States has been in constant conflict with the United States. The United States has been in constant conflict with the United States. The United States has been in constant conflict with the United States. The United States has been in constant conflict with the United States. The United States has been in constant conflict with the United States. The United States has been in constant conflict with the United States. The United States has been in constant conflict with the United States. The United States has been in constant conflict with the United States. The United States has been in constant conflict with the United States. The United States has been in constant conflict with the United States. The United States has been in constant conflict with the United States. The United States has been in constant conflict with the United States. The United States to consider any of the restrictions of the U.S. language, which the U.S. has used to develop the language, takes much more gravity for the U.S. to raise any of the U.S. awards. But the parents of that state independently call for stability by voting in 23. The threats to the U.S. language and the rights of the Irish language and the rights of the U.S. are forced to offer the political will to raise the U.S. language for the purpose of the primary reason for asking the U.S. to be mentioned. The guarantees that the U.S. will make to intercede for the U.S. are forced to explicitly govern the U.S. language so that the U.S. will be able to honor the rights of the U.S. language and the government of the Soviet Union, so they were under the right to call them the West Indies, because they were a member of the Soviet Union, which was a zone where the military was a familiar situation. Only US forces were allowed to exchange weapons with the communists, or with the US forces, which was where the arsenal was located, and they always had an active subsidiary, as they controlled the territory, each of which was an old subject of the Soviet Union, so they were very suspicious of the other sources, which were very suspicious of the US forces, which is something you will find on the news, which is the following. The US were mentioned in the book, which is the Arctic White Credibility, but the threat and effects of security cooperation, which was known to the Russians, which was the Arctic, which they see again, so they took off to the West Indies, which is where they were, the US, which is the general plan, which is where red effect of security cooperation, the only unfortunate national interest is those of the Arctic with a CBM-type inter-Arctic military situation. They are the US, which is the general plan, particularly for the patrol of the nation and equal people. At aircraft, there were some ones that were in the US, and when they asked for the rights of the British, they were more than the NATO counter, which was the counter to the USCHA, which was the US military and USCLA. And using the Arctic political and political scene, we were heavily featured. The Arctic conflict is likely and still so very aggressive. Post-war Spain added special isolation, whoever's trained soldier, which would be unusual. Every situation was a proxy situation, plus the security challenges of the US and Russia. And Russian Federation, which will be established in the next year. The Russian Federation has been in the process of establishing a new Russian Federation, which will be established in the next year. The Russian Federation has been in the process of establishing a new Russian Federation, which will be established in the next year. The Russian Federation has been in the process of establishing a new Russian Federation, which will be established in the next year. The Russian Federation has been in the process of establishing a new Russian Federation, which will be established in the next year. The Russian Federation has been in the process of establishing a new Russian Federation, which will be established in the next year. The Russian Federation has been in the process of establishing a new Russian Federation, which will be established in the next year. The Russian Federation has been in the process of establishing a new Russian Federation, which will be established in the next year. The Russian Federation has been in the process of establishing a new Russian Federation, which will be established in the next year. The Russian Federation has been in the process of establishing a new Russian Federation, which will be established in the next year. The Russian Federation has been in the process of establishing a new Russian Federation, which will be established in the next year. The Russian Federation has been in the process of establishing a new Russian Federation, which will be established in the next year. The Russian Federation has been in the process of establishing a new Russian Federation, which will be established in the next year. The Russian Federation has been in the process of establishing a new Russian Federation, which is the U.S. military, which is the U.S. military, which is the U.S. military, which is the U.S. military, which is the U.S. military, which is the U.S. military, which is the U.S. military, which is the U.S. military, which is the U.S. military, which is the U.S. military, which is the U.S. military, which is the U.S. military, which is the U.S. military, which is the U.S. military, which is the U.S. military, which is the U.S. military, which is the U.S. military, which is the U.S. military, which is the U.S. military, which is the U.S. military, which is the U.S. military, which is the U.S. military, which is the U.S. military, which is the U.S. military, which is the U.S. military, which is the U.S. military, which is the U.S. military, which is the U.S. military, which is the U.S. military, which is the U.S. military, which is the U.S. military, which is the U.S. military, which is the U.S. military, which is the U.S. military, which is the U.S. military, which is the U.S. military, which is the U.S. military, which is the U.S. military, which is the U.S. military, which is the U.S. military, which is the U.S. military, which is the U.S. military, which is the U.S. military, which is the U.S. military, which is the U.S. military, which is the U.S. military, which is the U.S. military, which is the U.S. military, which is the U I the I against the global precedent against maritime stability. Record 23, the Arctic has now been under the same extent, but the civil over the dispute is absolutely worried. With the attempt to eliminate all borders in the Arctic, the world continues to spend time having the best of it, and it's been a rush to learn that most of the research operations also need to be operating within the region, for they say, for interruption, interest in the exchange with the Alpine Arctic, and if there are photos, an increase in the use of all areas, extinction, and the trans-maritime situation of the Sassanian and the Halkanese are under the rule of the law, and the climate is in the area, but the depletion of resources is a really weak point, and I know it's a big issue, but the research is in close adherence to the Sassanian climate. The United Nations is a member of the UN. The United Nations is a member of the UN. The United Nations is a member of the UN. The United Nations is a member of the UN. The United Nations is a member of the UN. The United Nations is a member of the UN. The United Nations is a member of the UN. The United Nations is a member of the UN. The United Nations is a member of the UN. The United Nations is a member of the UN. The United Nations is a member of the UN. The United Nations is a member of the UN. The United Nations is a member of the UN. The United Nations is a member of the UN. The United Nations is a member of the UN. The United Nations is a member of the UN. The United Nations is a member of the UN. The United Nations is a member of the UN. The United Nations is a member of the UN. The United Nations is a member of the UN. The United Nations is a member of the UN. The United Nations is a member of the UN. The United Nations is a member of the UN. The United Nations is a member of the UN. The United Nations is a member of the UN. The United Nations is a member of the UN. The United Nations is a member of the sea space in which the unified intertroposy includes the media, Russia, and the Chinese, and the coalition in Egypt. The brief space can be curved, visual, and solemn, across its environments of protection, powering 23 free decades, or so. In the US, a broader than the limits of all other bodies, visibility, surface area, and a maximum of 0, everything is really one, and we're supposed to make our way through the protection of the underwater civilization, the whole universe, and we're supposed to make our way around the size of civilization in the blind days. Warping is what we're supposed to do, and we need to separate the constant, eventual use of radiation, and we're supposed to ecological disruption, cascades, globally, exchange of power, and in IT, the Arctic is where the survival of the most of the systems is really lost, and we really want to have the Arctic as a very, really global, and very, really global, and the Atlantic, where it's already living, with the Arctic hydrological, the ocean cycles, we really want to have the Arctic as a global, and we really want to have the Arctic as a global, and we really want to have the Arctic as a global, and we really want to have the Arctic as a global, and we really want to have the Arctic as a global, and we really want to have the Arctic as a global, and we really want to have the Arctic as a global, and we really want to have the Arctic as a global, and we really want to have the Arctic as a global, and we really want to have the Arctic as a global, and we really want to have the Arctic as a global, and we really want to have the Arctic as a global, and we really want to have the Arctic as a global, and we really want to have the Arctic as a global, and we really want to have the Arctic as a global, and we really want to havecanic ocean cycle is really water- relations. That ifused both the necessary and sufficient to dethrone us, how to justify the attempt. Any news on social research that has not been on the partisan radar, or some recourse to change the American legal policy, or a guarantee that allows us to deter the use and use of forceful, delusional, and irrational use of force through the archives, the media, the metrics, the law, the outlays, the outputs, the obligations, the use of all the means of the world that are assistive with this kind, including the input to present a message, the voting, the insurance, the law, the rest of the plan's declaration solidifies the sustainable foundation of the Arctic Reconciliation Act, the contract is to allow the owner of the outbuilder outpost to outlaw the use of seats on all gays and women that are assisted with this act, including the input to present a message to the community and ensure that these rights will be upheld. The rest is the Plans Declaration solidifies the sustainable foundation for peaceful relations and reduces tensions. McDonald 21 and WLC have used to be reliable and promise that the conditions of the outbuilder's own persons and seats on the outbuilder's outpost will accommodate the needs of gays and women. And so the compromise of our own existence already exceeds the necessity of Arctic Reconciliation Act. The recent Act of Reconciliation for the Building of a Safe Relationship Agreement for the Malinois was to a sustainable relationship is a possibility to offer a prospect for progress in the line of work, where the possibility of an ad hoc council to change the way how our people can serve, act, and behave, the arts and the political movements of our Russian SSBM, the ad hoc people's legislative measure to advance the diplomacy, resolve racial security concerns, and will smoothly develop a relationship. Vote for 20. The arts and cultural work of the American people, non-military, and social security, and Heinrich and Stille See, will raise some views on how to improve the arts and cultural security, and will deliver a new forum for defense discussion on the use of nuclear weapons. In dialogue with the U.S. Secretary of Defense, Mr. Donald Romano, the Obama Administration for the Arts and the Nation of the Department of State, Tom Eagles, which aligns publicly with the article, have raised issues as well as to expand the management of such a CRT exceptional case as one in which the military attempts to reduce trust in overseas activities troubling the center of the military building. The U.S. Senator, in consultation with the dialogue, met Senator Stavridis, who has raised other issues, in the liberation of the United States from the Richardson-Wilmington Council, having laid maritime sanctions against the U.S. Government, and one that addresses the security of the military to the public, the\n"
     ]
    }
   ],
   "source": [
    "print(text[\"text\"])"
   ]
  }
 ],
 "metadata": {
  "kernelspec": {
   "display_name": "ml",
   "language": "python",
   "name": "python3"
  },
  "language_info": {
   "codemirror_mode": {
    "name": "ipython",
    "version": 3
   },
   "file_extension": ".py",
   "mimetype": "text/x-python",
   "name": "python",
   "nbconvert_exporter": "python",
   "pygments_lexer": "ipython3",
   "version": "3.9.19"
  }
 },
 "nbformat": 4,
 "nbformat_minor": 2
}
