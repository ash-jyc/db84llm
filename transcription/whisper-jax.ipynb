{
 "cells": [
  {
   "cell_type": "markdown",
   "metadata": {},
   "source": [
    "# Slicing File"
   ]
  },
  {
   "cell_type": "code",
   "execution_count": 17,
   "metadata": {},
   "outputs": [],
   "source": [
    "# get file\n",
    "import csv\n",
    "DEBATES_FILE = './list_of_debates.csv'\n",
    "\n",
    "with open(DEBATES_FILE, 'r') as f:\n",
    "    reader = csv.DictReader(f)\n",
    "    list_of_debates = {}\n",
    "    for row in reader:\n",
    "        list_of_debates[row['name']] = row\n",
    "\n",
    "single_debate = list_of_debates[\"Dartmouth RR 2024 - Round 4 - Michigan PD vs Dartmouth BC\"]\n",
    "\n",
    "audio_file = f\"./debates/{single_debate['name']}/audio.wav\"\n",
    "audio_dir = f\"./debates/{single_debate['name']}/speeches/audio_files/\"\n",
    "speeches = [\"1ac\", \"1nc\", \"2ac\", \"2nc\", \"1nr\", \"1ar\", \"2nr\", \"2ar\"]"
   ]
  },
  {
   "cell_type": "code",
   "execution_count": 18,
   "metadata": {},
   "outputs": [
    {
     "name": "stderr",
     "output_type": "stream",
     "text": [
      "output_file: ./debates/Dartmouth RR 2024 - Round 4 - Michigan PD vs Dartmouth BC/speeches/audio_files/1ac.wav already exists and will be overwritten on build\n",
      "output_file: ./debates/Dartmouth RR 2024 - Round 4 - Michigan PD vs Dartmouth BC/speeches/audio_files/1nc.wav already exists and will be overwritten on build\n",
      "output_file: ./debates/Dartmouth RR 2024 - Round 4 - Michigan PD vs Dartmouth BC/speeches/audio_files/2ac.wav already exists and will be overwritten on build\n",
      "output_file: ./debates/Dartmouth RR 2024 - Round 4 - Michigan PD vs Dartmouth BC/speeches/audio_files/2nc.wav already exists and will be overwritten on build\n",
      "output_file: ./debates/Dartmouth RR 2024 - Round 4 - Michigan PD vs Dartmouth BC/speeches/audio_files/1nr.wav already exists and will be overwritten on build\n",
      "output_file: ./debates/Dartmouth RR 2024 - Round 4 - Michigan PD vs Dartmouth BC/speeches/audio_files/1ar.wav already exists and will be overwritten on build\n",
      "output_file: ./debates/Dartmouth RR 2024 - Round 4 - Michigan PD vs Dartmouth BC/speeches/audio_files/2nr.wav already exists and will be overwritten on build\n",
      "output_file: ./debates/Dartmouth RR 2024 - Round 4 - Michigan PD vs Dartmouth BC/speeches/audio_files/2ar.wav already exists and will be overwritten on build\n"
     ]
    }
   ],
   "source": [
    "# slicing file\n",
    "import sox\n",
    "\n",
    "# slice based off speech\n",
    "def slice_audio(audio_file, start_time, speech):\n",
    "    # convert time from \"hh:mm:ss\"\n",
    "    start_time = sum([int(x) * 60 ** i for i, x in enumerate(start_time.split(\":\")[::-1])])\n",
    "    if speech[-1] == 'c':\n",
    "        end_time = start_time + 9 * 60\n",
    "    else:\n",
    "        end_time = start_time + 6 * 60\n",
    "    output_file = f\"{audio_dir}{speech}.wav\"\n",
    "    tfm = sox.Transformer()\n",
    "    tfm.trim(start_time, end_time)\n",
    "    tfm.build(audio_file, output_file)\n",
    "    \n",
    "for speech in speeches:\n",
    "    slice_audio(audio_file, single_debate[speech], speech)"
   ]
  },
  {
   "cell_type": "markdown",
   "metadata": {},
   "source": [
    "# Transcription"
   ]
  },
  {
   "cell_type": "code",
   "execution_count": 19,
   "metadata": {},
   "outputs": [
    {
     "name": "stdout",
     "output_type": "stream",
     "text": [
      "[0 1 2 3 4 5 6 7 8 9]\n"
     ]
    }
   ],
   "source": [
    "# load jax env variables for mac\n",
    "from dotenv import load_dotenv\n",
    "\n",
    "load_dotenv()\n",
    "\n",
    "# test\n",
    "import jax\n",
    "print(jax.numpy.arange(10))"
   ]
  },
  {
   "cell_type": "code",
   "execution_count": 15,
   "metadata": {},
   "outputs": [
    {
     "name": "stderr",
     "output_type": "stream",
     "text": [
      "/Users/ashle/opt/anaconda3/envs/ml/lib/python3.9/site-packages/huggingface_hub/file_download.py:1132: FutureWarning: `resume_download` is deprecated and will be removed in version 1.0.0. Downloads always resume when possible. If you want to force a new download, use `force_download=True`.\n",
      "  warnings.warn(\n",
      "/Users/ashle/opt/anaconda3/envs/ml/lib/python3.9/site-packages/huggingface_hub/file_download.py:1132: FutureWarning: `resume_download` is deprecated and will be removed in version 1.0.0. Downloads always resume when possible. If you want to force a new download, use `force_download=True`.\n",
      "  warnings.warn(\n"
     ]
    }
   ],
   "source": [
    "# import pipeline\n",
    "from whisper_jax import FlaxWhisperPipline\n",
    "\n",
    "# instantiate pipeline\n",
    "pipeline = FlaxWhisperPipline(\"openai/whisper-large-v2\")"
   ]
  },
  {
   "cell_type": "code",
   "execution_count": 4,
   "metadata": {},
   "outputs": [],
   "source": [
    "# JIT compile the forward call - slow, but we only do once\n",
    "text = pipeline(\"./debates/Dartmouth RR 2024 - Round 4 - Michigan PD vs Dartmouth BC/audio_trimmed.wav\")"
   ]
  },
  {
   "cell_type": "code",
   "execution_count": 20,
   "metadata": {},
   "outputs": [],
   "source": [
    "# used cached function thereafter - super fast!!\n",
    "from concurrent.futures import ThreadPoolExecutor\n",
    "import os\n",
    "\n",
    "transcription_dir = f\"./debates/{single_debate['name']}/speeches/transcriptions/\"\n",
    "os.makedirs(transcription_dir, exist_ok=True)\n",
    "speeches = [\"1nr\", \"1ar\", \"2nr\", \"2ar\"]\n",
    "\n",
    "def transcribe_and_save(speech, pipeline):\n",
    "    text = pipeline(f\"{audio_dir}/{speech}.wav\", task=\"transcribe\")\n",
    "    # save the text to a file\n",
    "    with open(f\"{transcription_dir}/{speech}.txt\", \"w\") as f:\n",
    "        f.write(text[\"text\"])\n",
    "    print(f\"Transcribed {speech}\")\n",
    "\n",
    "# Use ThreadPoolExecutor to transcribe each speech in parallel\n",
    "with ThreadPoolExecutor(max_workers=4) as executor:\n",
    "    futures = [executor.submit(transcribe_and_save, speech, pipeline) for speech in speeches]"
   ]
  },
  {
   "cell_type": "code",
   "execution_count": 21,
   "metadata": {},
   "outputs": [
    {
     "name": "stdout",
     "output_type": "stream",
     "text": [
      " Photoaffirmatives to embrace an Arctic-ed view of planet politics is the best method for solving the red flags. The planet prevents extinction through miscalculated accidental war in the Arctic versus threats of extinguished accidents, co-nuclear and close Russia to first strike the United States, due to fears which the planet certainly solves. Though, red flag, I would highlight, is not a negative part. It indicates that we should abandon first strike postures in the Arctic, and articulates that the vagueness of American first strike policy is a key reason. It does not say that we should get rid of all of our noose, which means that it does not go negative. It proves that the permutation is sufficient to solve the terms failure in the Arctic for the plan, as well as everything else that would be adopted of the alternative to the permutation. It was not perceived perfectly as new, and the two in orange strike it as though it were a buoyancy car. It was that presenting the threat of a first strike in the Arctic is sufficient to solve the terms collapse in the Arctic because we no longer threaten Russia's deterrent. Now the critique of proper permutation to the Arctic determines this in an unwinnable position because they have hinged the debate on an oath that is not mutually exclusive with the plan. The alternative is planned. Plus, any process of disarming nukes requires force firing nuclear first use. This was proven in one of T-Farrell's examinations when they said, quote, first strikes are incompatible with the alternative. The two in our grandstanding on us considering the alternative makes no sense when our argument is that the alternative includes the information of the rest of the debate and the line by line is completely irrelevant because the app is not mutually exclusive with global disarmament but linked to the proper NFU is in line with the alternative. The England evidence describes it as necessary to quote give impetus to multilateral disarmament because absent a plan, politicians, strategists, voters, and activists will refuse to adopt the alternative which is the one-air England evidence. The 2AC Evans card contextualizes this within the possibility for the alternative to come about and indicates that there is quote no way whatsoever which of the nuclear-armed states goes on to indicate NFU as the highest priority for bringing the alternative about, but if their link argument is correct, the alternative is impossible because India, China, and Russia have all had, or had previously had, NFUs, which is a dropped argument in the 200R. It means that it's try or die if it went to NFU in the short term because our clean nuclear complex is available now, and the adoption of the plan gives very unnecessary energy to make the alternative successful. The church collapse is wrong even if we write about it everywhere else. Should we stay on the Arctic coast plan which was extended on the case debate? Links are not disadvantages if we're winning the thesis of the link term as NFU creating energy field alternative which was explained above. There's no impact term of the plan. The incredible Russia no longer thinks we're going to do them. It guarantees we solve extinction. Yes the England card mentions NFU at the bottom of the card but it says that it opens the window for political action, which was all explained above and proves that it actually is an affirmative card. Now, the firm zeroes their offense, it's a sufficient win condition, and solves every net offense argument that the QNR has gone for. They hint at being completely right that global deterrence is unsustainable, that nukes are irredeemable, and that the status quo causes war, but the solution to all of that is the permutation. Even if the FBI might invest in deterrence logics, any residual risk of a leak is obviously overwhelmed by the alternative that quite literally eliminates every nuclear weapon in existence and ends the possibility for nuclear deterrence. Second, the threshold for a negative ballot is high. The deferred affirmative against the Permian 3 coherently explains why a proposal to end nuclear first use and a proposal to end nuclear use cannot be done at once. If you cannot visualize and explain this step by step with a combination of panels, you must go to AFT 3. Do not use offense defense. Any risk requires an opportunity cost. Even if you use offense defense, remember that they can see the case solvency and agree to the impermanence of the ship stopping nuclear war in the Arctic. So that's an offensive reason why the plan is good. Now, framework. Evaluate the desirability of the plan against the competitive opportunity cost. They've made too many technical concessions to win this debate. One, they've dropped the debate. The wrong interpretation. Justifications of the plan include arbitrary consequences. It means that their framework interpretation cannot solve any of the critiques of the operative. It still allows for arbitrary consequences to be weighed. Second, the two in R's missed both. They are very good on why representations matter, but very bad on why the alternatives do not to be material. Opportunity costs the plan. But that means our interpretation is middle ground that solves our offense. They are free to question and critique our epistemology as long as they have an alternative that is an opportunity that costs them the plan. They are careful they avoid global disarmament. They could have had an alternative that was more finalistic or focused on research projects and debate. Instead, chose to be at a global movement to solve their life's perforated wantonness fairness. The interpretation artificially lowers the bar for negative victory. They can move diamonds to the YAC and be focused on debate on any minute disagreement. The YAC is a misomology from what he said in the library submission to Mute. The case opportunity costs are critical. They dropped that. Otherwise, it allows the negative to be at world peace and data points about the affirmative's orientation towards war and fairness outweighs. They've dropped every reason why that outweighs pedagogy. And their offense fairness must be a yes-no question. But it must be maximized. The 2Nand-R was ironically very light on the network, despite identifying 1-a-R's strengths. They've dropped this topological link. Fairness secondary, then even that requires fair evaluation. They've dropped it to pre-arguments of the scholarship, because predictable engagement is the only internal link to requirement. Both means that fairness is the controlling factor in this debate, and we have a massive risk where they have very little defense. Second is clash, which basically conceded even if the idea is illusory, it's predictable, studying the consequences of speeches. Informed decision making and aversive cognitive bias by exposing debaters to all period. Scrundy, independently, and the CD Academy to the right of activating debaters as a source of clash. It's those fatalism and truth on solvency because arguments and opponents will be argumentatively trained to prevent them from exploring their politics. Lastly, the two in a row was too light on subjectivity shift that ends the debate. It zeroes every single data on framework and the reliance on the 1AC. It proves that the representations Kelly and I have in the 1AC do not indicate anything about our political orientation or pedagogical features. It means that reps should be divorced from the plan and there is no risk that our model produces bad advocates. They have dropped every school work the next 50 years. Outweigh a single debate round. We gain to read arguments. We win not because we truly believe in nuclear deterrence and switch on debate means that we negate what was said on the other side. Otherwise, Dartmouth's subjectivity already screwed them from the beginning by going for the deterrence DA and other rounds of duplication. It's that Dartmouth is unable to produce good subjects. The only response was code. It's about how we evaluate the plan is desirable. But our point is that different methods of evaluation do not matter because it makes no difference what we think. McGee was not conceited. Obviously, our extension of fairness in class ornaments why the negative class have an opportunity cost to the plan, but it doesn't go nagging to our intuitive or incoherent guess. McGee thinks comparing fictions are important, but does not say that these fictions do not require an opportunity cost. They have to prove that the fictions are mutually exclusive. They say our interpretation is exclusive there. That's wrong. The showrunner said, quote, they can't wear the plan which is going to our offense. The plan takes maybe 10 seconds, but you can still burn our offense off the object at the end if you will, though there could be critiques and slogging there. Have some opportunity cost that doesn't regress into DAs, which was in the overview. Clash does not produce VATs, dollars, which is on subjectivity shift. AFPREM is irrelevant. They've dropped that block SKU out of ways. Now, the rest of this debate is completely irrelevant because the alternative is planned. Plus, it includes the NFU in it. You cannot vote for it because of all of our fair work. I'm offensive for who means that it's not a competitive alternative. And you know that the case for 100% SALT, or risk of a nuclear war, and that NFU is necessary. You create the political possibility for the alternative to exist in the first place, so you must vote for the alternative!\n"
     ]
    }
   ],
   "source": [
    "print(text[\"text\"])"
   ]
  }
 ],
 "metadata": {
  "kernelspec": {
   "display_name": "ml",
   "language": "python",
   "name": "python3"
  },
  "language_info": {
   "codemirror_mode": {
    "name": "ipython",
    "version": 3
   },
   "file_extension": ".py",
   "mimetype": "text/x-python",
   "name": "python",
   "nbconvert_exporter": "python",
   "pygments_lexer": "ipython3",
   "version": "3.9.19"
  }
 },
 "nbformat": 4,
 "nbformat_minor": 2
}
